{
 "cells": [
  {
   "cell_type": "code",
   "execution_count": 1,
   "outputs": [
    {
     "name": "stdout",
     "output_type": "stream",
     "text": [
      "Processing bags_of_phrases\\basic_two_harmonies.pkl\n",
      "bags_of_phrases\\basic_two_harmonies.pkl exists, skipping\n",
      "Processing bags_of_phrases\\basic_three_harmonies_opening.pkl\n",
      "bags_of_phrases\\basic_three_harmonies_opening.pkl exists, skipping\n",
      "Processing bags_of_phrases\\basic_three_harmonies_closing.pkl\n",
      "bags_of_phrases\\basic_three_harmonies_closing.pkl exists, skipping\n",
      "Processing bags_of_phrases\\basic_all_harmonies.pkl\n",
      "bags_of_phrases\\basic_all_harmonies.pkl exists, skipping\n",
      "Processing bags_of_phrases\\mode_two_harmonies.pkl\n",
      "bags_of_phrases\\mode_two_harmonies.pkl exists, skipping\n",
      "Processing bags_of_phrases\\mode_three_harmonies_opening.pkl\n",
      "bags_of_phrases\\mode_three_harmonies_opening.pkl exists, skipping\n",
      "Processing bags_of_phrases\\mode_three_harmonies_closing.pkl\n",
      "bags_of_phrases\\mode_three_harmonies_closing.pkl exists, skipping\n",
      "Processing bags_of_phrases\\mode_all_harmonies.pkl\n",
      "bags_of_phrases\\mode_all_harmonies.pkl exists, skipping\n"
     ]
    },
    {
     "name": "stderr",
     "output_type": "stream",
     "text": [
      "C:\\Users\\tgewirtz\\OneDrive - Intel Corporation\\Documents\\Technion\\SemesterF\\ProjectB\\BachChoraleGenerator\\bag_of_phrase_words.py:162: UserWarning: To copy construct from a tensor, it is recommended to use sourceTensor.clone().detach() or sourceTensor.clone().detach().requires_grad_(True), rather than torch.tensor(sourceTensor).\n",
      "  torch.tensor(chorale, dtype=torch.long),\n",
      "C:\\Users\\tgewirtz\\OneDrive - Intel Corporation\\Documents\\Technion\\SemesterF\\ProjectB\\BachChoraleGenerator\\bag_of_phrase_words.py:176: UserWarning: To copy construct from a tensor, it is recommended to use sourceTensor.clone().detach() or sourceTensor.clone().detach().requires_grad_(True), rather than torch.tensor(sourceTensor).\n",
      "  torch.tensor(chorale, dtype=torch.long) for chorale in self.chorale_sentence_dict.values()\n"
     ]
    }
   ],
   "source": [
    "import pickle\n",
    "import os\n",
    "from bag_of_phrase_words import ChoraleSentences\n",
    "from bag_of_phrases_utils import *\n",
    "import torch\n",
    "\n",
    "chorale_sentences_by_feature_combination_pickle_filename = \\\n",
    "    'chorale_sentences_by_feature_combination.pkl'\n",
    "bags_of_phrases_directory_name = 'bags_of_phrases'\n",
    "\n",
    "if chorale_sentences_by_feature_combination_pickle_filename not in os.listdir(os.getcwd()):\n",
    "    # This is the first time we make the files, let it run.\n",
    "    feature_combinations = make_feature_combinations()\n",
    "    make_bags_of_phrases_from_feature_combinations(\n",
    "        feature_combinations,\n",
    "        bags_of_phrases_directory_name\n",
    "    )\n",
    "    make_chorale_sentences_by_feature_combination(\n",
    "        chorale_sentences_by_feature_combination_pickle_filename,\n",
    "        bags_of_phrases_directory_name\n",
    "    )\n",
    "\n",
    "with open(chorale_sentences_by_feature_combination_pickle_filename, 'rb') \\\n",
    "        as chorale_sentences_by_feature_combination_file:\n",
    "    chorale_sentences_by_feature_combination = pickle.load(chorale_sentences_by_feature_combination_file)\n",
    "\n",
    "basic_chorale_sentences : ChoraleSentences = chorale_sentences_by_feature_combination['basic_two_harmonies']"
   ],
   "metadata": {
    "collapsed": false,
    "pycharm": {
     "name": "#%%\n"
    }
   }
  },
  {
   "cell_type": "code",
   "execution_count": 2,
   "outputs": [],
   "source": [
    "# This is the chorale sentences object which is our processed database\n",
    "chorale_sentences = basic_chorale_sentences\n",
    "\n",
    "# For convenient debug, we'll have an option to train on a single example (or just a few) and test on these examples\n",
    "debug = False\n",
    "\n",
    "hyperparams = dict(\n",
    "    h_dim=128,\n",
    "    n_layers=1,\n",
    "    dropout=0.1,\n",
    "    batch_size=1,\n",
    "    learn_rate=0.1,\n",
    "    lr_sched_factor=0.9,\n",
    "    lr_sched_patience=1,\n",
    "    early_stopping=0\n",
    ")"
   ],
   "metadata": {
    "collapsed": false,
    "pycharm": {
     "name": "#%%\n"
    }
   }
  },
  {
   "cell_type": "code",
   "execution_count": 3,
   "outputs": [
    {
     "name": "stdout",
     "output_type": "stream",
     "text": [
      "Using device: cpu\n",
      "hyperparams:\n",
      " {'h_dim': 128, 'n_layers': 1, 'dropout': 0.1, 'batch_size': 1, 'learn_rate': 0.1, 'lr_sched_factor': 0.9, 'lr_sched_patience': 1, 'early_stopping': 0}\n",
      "Train: 305 batches,\n",
      "Test:   34 batches,\n",
      "MySequenceModel(\n",
      "  (seq_model): RNN(53, 128, batch_first=True, dropout=0.1)\n",
      "  (out_layer): Linear(in_features=128, out_features=53, bias=True)\n",
      ")\n"
     ]
    },
    {
     "name": "stderr",
     "output_type": "stream",
     "text": [
      "C:\\Users\\tgewirtz\\Miniconda3\\envs\\MyChoralesData\\lib\\site-packages\\torch\\nn\\modules\\rnn.py:62: UserWarning: dropout option adds dropout after all but last recurrent layer, so non-zero dropout expects num_layers greater than 1, but got dropout=0.1 and num_layers=1\n",
      "  warnings.warn(\"dropout option adds dropout after all but last \"\n"
     ]
    }
   ],
   "source": [
    "from chorale_rnn import *\n",
    "from trainer import ChoraleSentenceTrainer, ChoraleSentenceTrainerWithFirstPhrase\n",
    "\n",
    "device = torch.device('cuda' if torch.cuda.is_available() else 'cpu')\n",
    "print('Using device:', device)\n",
    "\n",
    "print('hyperparams:\\n', hyperparams)\n",
    "\n",
    "# Dataset definition\n",
    "vocab_len = chorale_sentences.vocabulary_length\n",
    "\n",
    "train_test_ratio = 0.9\n",
    "num_samples = chorale_sentences.number_of_chorales\n",
    "num_train = int(train_test_ratio * num_samples)\n",
    "\n",
    "batch_size = min(hyperparams['batch_size'], num_train)\n",
    "\n",
    "if debug:\n",
    "    train_index_start = 0\n",
    "    train_index_end = 1\n",
    "    test_index_start = 0\n",
    "    test_index_end = 1\n",
    "else:\n",
    "    train_index_start = 0\n",
    "    train_index_end = num_train\n",
    "    test_index_start = num_train\n",
    "    test_index_end = num_samples\n",
    "\n",
    "# samples, labels = chorale_sentences_tensor_to_labelled_samples(chorale_sentences, device)\n",
    "\n",
    "samples, labels = chorale_sentences_list_to_labelled_samples(chorale_sentences)\n",
    "\n",
    "ds_train = list(zip(\n",
    "    samples[train_index_start:train_index_end], labels[train_index_start:train_index_end]\n",
    "))\n",
    "ds_test = list(zip(\n",
    "    samples[test_index_start:test_index_end], labels[test_index_start:test_index_end]\n",
    "))\n",
    "\n",
    "collate_fn = PhraseCollator(chorale_sentences, device)\n",
    "\n",
    "dl_train = torch.utils.data.DataLoader(ds_train, batch_size, shuffle=False, drop_last=True, collate_fn=collate_fn)\n",
    "dl_test = torch.utils.data.DataLoader(ds_test, batch_size, shuffle=False, drop_last=True, collate_fn=collate_fn)\n",
    "\n",
    "print(f'Train: {len(dl_train):3d} batches,')\n",
    "print(f'Test:  {len(dl_test):3d} batches,')\n",
    "\n",
    "# Training definition\n",
    "in_dim = out_dim = vocab_len\n",
    "checkpoint_file = 'checkpoints/rnn'\n",
    "num_epochs = 1000\n",
    "early_stopping = hyperparams['early_stopping']\n",
    "\n",
    "model = MySequenceModel(\n",
    "    nn.RNN,\n",
    "    in_dim,\n",
    "    hyperparams['h_dim'],\n",
    "    out_dim,\n",
    "    hyperparams['n_layers'],\n",
    "    hyperparams['dropout']\n",
    ")\n",
    "\n",
    "loss_fn = nn.CrossEntropyLoss()\n",
    "optimizer = torch.optim.Adam(model.parameters(), lr=hyperparams['learn_rate'])\n",
    "scheduler = torch.optim.lr_scheduler.ReduceLROnPlateau(\n",
    "    optimizer,\n",
    "    mode='max',\n",
    "    factor=hyperparams['lr_sched_factor'],\n",
    "    patience=hyperparams['lr_sched_patience'],\n",
    "    verbose=True\n",
    ")\n",
    "\n",
    "print(model)\n",
    "\n",
    "trainer = ChoraleSentenceTrainerWithFirstPhrase(model, loss_fn, optimizer, device)"
   ],
   "metadata": {
    "collapsed": false,
    "pycharm": {
     "name": "#%%\n"
    }
   }
  },
  {
   "cell_type": "code",
   "execution_count": 4,
   "outputs": [
    {
     "name": "stdout",
     "output_type": "stream",
     "text": [
      "[50, 48, 11, 2, 9, 2, 25, 21, 0, 29, 23, 46, 27, 19, 14, 14, 23, 16, 51]\n",
      "--- EPOCH 1/1000 ---\n"
     ]
    },
    {
     "data": {
      "text/plain": "train_batch:   0%|          | 0/305 [00:00<?, ?it/s]",
      "application/vnd.jupyter.widget-view+json": {
       "version_major": 2,
       "version_minor": 0,
       "model_id": "87e34e62651a418c86e64b6ed0db3b24"
      }
     },
     "metadata": {},
     "output_type": "display_data"
    },
    {
     "name": "stderr",
     "output_type": "stream",
     "text": [
      "C:\\Users\\tgewirtz\\OneDrive - Intel Corporation\\Documents\\Technion\\SemesterF\\ProjectB\\BachChoraleGenerator\\bag_of_phrases_utils.py:136: UserWarning: To copy construct from a tensor, it is recommended to use sourceTensor.clone().detach() or sourceTensor.clone().detach().requires_grad_(True), rather than torch.tensor(sourceTensor).\n",
      "  samples.append(torch.tensor(sample))\n",
      "C:\\Users\\tgewirtz\\OneDrive - Intel Corporation\\Documents\\Technion\\SemesterF\\ProjectB\\BachChoraleGenerator\\bag_of_phrases_utils.py:138: UserWarning: To copy construct from a tensor, it is recommended to use sourceTensor.clone().detach() or sourceTensor.clone().detach().requires_grad_(True), rather than torch.tensor(sourceTensor).\n",
      "  labels.append(torch.tensor(label))\n"
     ]
    },
    {
     "data": {
      "text/plain": "test_batch:   0%|          | 0/34 [00:00<?, ?it/s]",
      "application/vnd.jupyter.widget-view+json": {
       "version_major": 2,
       "version_minor": 0,
       "model_id": "21d2931edbcd4aef8fbd406f7b7103ae"
      }
     },
     "metadata": {},
     "output_type": "display_data"
    },
    {
     "name": "stdout",
     "output_type": "stream",
     "text": [
      "\n",
      "*** Saved checkpoint checkpoints/rnn.pt\n",
      "[50, 9, 26, 8, 8, 36, 51]\n",
      "--- EPOCH 2/1000 ---\n"
     ]
    },
    {
     "data": {
      "text/plain": "train_batch:   0%|          | 0/305 [00:00<?, ?it/s]",
      "application/vnd.jupyter.widget-view+json": {
       "version_major": 2,
       "version_minor": 0,
       "model_id": "51ac6667d3db41fdb66e8a7206af8572"
      }
     },
     "metadata": {},
     "output_type": "display_data"
    },
    {
     "data": {
      "text/plain": "test_batch:   0%|          | 0/34 [00:00<?, ?it/s]",
      "application/vnd.jupyter.widget-view+json": {
       "version_major": 2,
       "version_minor": 0,
       "model_id": "3a5a66a65bf34bbcad9789091df52771"
      }
     },
     "metadata": {},
     "output_type": "display_data"
    },
    {
     "name": "stdout",
     "output_type": "stream",
     "text": [
      "\n",
      "*** Saved checkpoint checkpoints/rnn.pt\n",
      "[50, 8, 26, 8, 51]\n",
      "--- EPOCH 3/1000 ---\n"
     ]
    },
    {
     "data": {
      "text/plain": "train_batch:   0%|          | 0/305 [00:00<?, ?it/s]",
      "application/vnd.jupyter.widget-view+json": {
       "version_major": 2,
       "version_minor": 0,
       "model_id": "a2efe9f52bc04615b04b54137ec248fe"
      }
     },
     "metadata": {},
     "output_type": "display_data"
    },
    {
     "data": {
      "text/plain": "test_batch:   0%|          | 0/34 [00:00<?, ?it/s]",
      "application/vnd.jupyter.widget-view+json": {
       "version_major": 2,
       "version_minor": 0,
       "model_id": "4950a247f1174357a7427c8819027586"
      }
     },
     "metadata": {},
     "output_type": "display_data"
    },
    {
     "name": "stdout",
     "output_type": "stream",
     "text": [
      "[50, 8, 32, 10, 8, 10, 8, 10, 8, 10, 8, 10, 8, 10, 8, 10, 8, 8, 8, 10, 10, 10, 10, 10, 8, 8]\n",
      "--- EPOCH 4/1000 ---\n"
     ]
    },
    {
     "data": {
      "text/plain": "train_batch:   0%|          | 0/305 [00:00<?, ?it/s]",
      "application/vnd.jupyter.widget-view+json": {
       "version_major": 2,
       "version_minor": 0,
       "model_id": "375de80f9fce4f3daf1855a50eac7320"
      }
     },
     "metadata": {},
     "output_type": "display_data"
    },
    {
     "data": {
      "text/plain": "test_batch:   0%|          | 0/34 [00:00<?, ?it/s]",
      "application/vnd.jupyter.widget-view+json": {
       "version_major": 2,
       "version_minor": 0,
       "model_id": "c052fd47b11a4397a356a44f50836dbb"
      }
     },
     "metadata": {},
     "output_type": "display_data"
    },
    {
     "name": "stdout",
     "output_type": "stream",
     "text": [
      "Epoch     4: reducing learning rate of group 0 to 9.0000e-02.\n",
      "[50, 32, 45, 45, 45, 45, 45, 45, 45, 45, 45, 45, 45, 45, 45, 45, 45, 45, 45, 45, 45, 45, 45, 45, 45, 45]\n",
      "--- EPOCH 5/1000 ---\n"
     ]
    },
    {
     "data": {
      "text/plain": "train_batch:   0%|          | 0/305 [00:00<?, ?it/s]",
      "application/vnd.jupyter.widget-view+json": {
       "version_major": 2,
       "version_minor": 0,
       "model_id": "d101b2cc5e664d1884855f7adeb03979"
      }
     },
     "metadata": {},
     "output_type": "display_data"
    },
    {
     "data": {
      "text/plain": "test_batch:   0%|          | 0/34 [00:00<?, ?it/s]",
      "application/vnd.jupyter.widget-view+json": {
       "version_major": 2,
       "version_minor": 0,
       "model_id": "08e5c16d90a7466b8f4f1d071afc7bab"
      }
     },
     "metadata": {},
     "output_type": "display_data"
    },
    {
     "name": "stdout",
     "output_type": "stream",
     "text": [
      "[50, 32, 26, 15, 15, 45, 15, 15, 15, 26, 26, 15, 26, 15, 15, 15, 26, 15, 45, 26, 45, 15, 15, 26, 26, 26]\n",
      "--- EPOCH 6/1000 ---\n"
     ]
    },
    {
     "data": {
      "text/plain": "train_batch:   0%|          | 0/305 [00:00<?, ?it/s]",
      "application/vnd.jupyter.widget-view+json": {
       "version_major": 2,
       "version_minor": 0,
       "model_id": "90c3cea1459c4c919257a785744ae08a"
      }
     },
     "metadata": {},
     "output_type": "display_data"
    },
    {
     "data": {
      "text/plain": "test_batch:   0%|          | 0/34 [00:00<?, ?it/s]",
      "application/vnd.jupyter.widget-view+json": {
       "version_major": 2,
       "version_minor": 0,
       "model_id": "14bef2b2752b498c93cfc3f5f22c4dce"
      }
     },
     "metadata": {},
     "output_type": "display_data"
    },
    {
     "name": "stdout",
     "output_type": "stream",
     "text": [
      "Epoch     6: reducing learning rate of group 0 to 8.1000e-02.\n",
      "[50, 8, 15, 16, 16, 16, 16, 16, 16, 16, 16, 16, 16, 16, 16, 16, 16, 16, 16, 16, 16, 16, 16, 16, 16, 16]\n",
      "--- EPOCH 7/1000 ---\n"
     ]
    },
    {
     "data": {
      "text/plain": "train_batch:   0%|          | 0/305 [00:00<?, ?it/s]",
      "application/vnd.jupyter.widget-view+json": {
       "version_major": 2,
       "version_minor": 0,
       "model_id": "53322b539c144181852f8a2a3f49f718"
      }
     },
     "metadata": {},
     "output_type": "display_data"
    },
    {
     "data": {
      "text/plain": "test_batch:   0%|          | 0/34 [00:00<?, ?it/s]",
      "application/vnd.jupyter.widget-view+json": {
       "version_major": 2,
       "version_minor": 0,
       "model_id": "5fdf2291fc3c4d008933f87b93cfa3b7"
      }
     },
     "metadata": {},
     "output_type": "display_data"
    },
    {
     "name": "stdout",
     "output_type": "stream",
     "text": [
      "[50, 32, 16, 45, 45, 16, 16, 45, 45, 45, 16, 45, 45, 16, 45, 16, 45, 16, 45, 16, 16, 45, 45, 45, 45, 45]\n",
      "--- EPOCH 8/1000 ---\n"
     ]
    },
    {
     "data": {
      "text/plain": "train_batch:   0%|          | 0/305 [00:00<?, ?it/s]",
      "application/vnd.jupyter.widget-view+json": {
       "version_major": 2,
       "version_minor": 0,
       "model_id": "e9e5670cfdee4384a1d07081429cac5a"
      }
     },
     "metadata": {},
     "output_type": "display_data"
    },
    {
     "data": {
      "text/plain": "test_batch:   0%|          | 0/34 [00:00<?, ?it/s]",
      "application/vnd.jupyter.widget-view+json": {
       "version_major": 2,
       "version_minor": 0,
       "model_id": "fd34b19efd8045d1bee15d1a1ff01d83"
      }
     },
     "metadata": {},
     "output_type": "display_data"
    },
    {
     "name": "stdout",
     "output_type": "stream",
     "text": [
      "Epoch     8: reducing learning rate of group 0 to 7.2900e-02.\n",
      "[50, 9, 45, 45, 45, 45, 45, 45, 45, 45, 45, 45, 45, 45, 45, 45, 45, 45, 45, 45, 45, 45, 45, 45, 45, 45]\n",
      "--- EPOCH 9/1000 ---\n"
     ]
    },
    {
     "data": {
      "text/plain": "train_batch:   0%|          | 0/305 [00:00<?, ?it/s]",
      "application/vnd.jupyter.widget-view+json": {
       "version_major": 2,
       "version_minor": 0,
       "model_id": "fece24d9d9e84761b2ff046683f362b3"
      }
     },
     "metadata": {},
     "output_type": "display_data"
    },
    {
     "data": {
      "text/plain": "test_batch:   0%|          | 0/34 [00:00<?, ?it/s]",
      "application/vnd.jupyter.widget-view+json": {
       "version_major": 2,
       "version_minor": 0,
       "model_id": "d0b6c1e9381141dfbae1d115b104a03f"
      }
     },
     "metadata": {},
     "output_type": "display_data"
    },
    {
     "name": "stdout",
     "output_type": "stream",
     "text": [
      "[50, 6, 45, 45, 45, 45, 45, 45, 45, 45, 45, 45, 45, 45, 45, 45, 45, 45, 45, 45, 45, 45, 45, 45, 45, 45]\n",
      "--- EPOCH 10/1000 ---\n"
     ]
    },
    {
     "data": {
      "text/plain": "train_batch:   0%|          | 0/305 [00:00<?, ?it/s]",
      "application/vnd.jupyter.widget-view+json": {
       "version_major": 2,
       "version_minor": 0,
       "model_id": "d4050af8346746968df24a6f106774bf"
      }
     },
     "metadata": {},
     "output_type": "display_data"
    },
    {
     "data": {
      "text/plain": "test_batch:   0%|          | 0/34 [00:00<?, ?it/s]",
      "application/vnd.jupyter.widget-view+json": {
       "version_major": 2,
       "version_minor": 0,
       "model_id": "2ef48e8f8af34c0b891a258c0f329013"
      }
     },
     "metadata": {},
     "output_type": "display_data"
    },
    {
     "name": "stdout",
     "output_type": "stream",
     "text": [
      "Epoch    10: reducing learning rate of group 0 to 6.5610e-02.\n",
      "[50, 8, 8, 8, 8, 8, 8, 8, 8, 8, 8, 8, 8, 8, 8, 8, 8, 8, 8, 8, 8, 8, 8, 8, 8, 8]\n",
      "--- EPOCH 11/1000 ---\n"
     ]
    },
    {
     "data": {
      "text/plain": "train_batch:   0%|          | 0/305 [00:00<?, ?it/s]",
      "application/vnd.jupyter.widget-view+json": {
       "version_major": 2,
       "version_minor": 0,
       "model_id": "c0a7a8e805e94c618d1da359b661a0bb"
      }
     },
     "metadata": {},
     "output_type": "display_data"
    },
    {
     "data": {
      "text/plain": "test_batch:   0%|          | 0/34 [00:00<?, ?it/s]",
      "application/vnd.jupyter.widget-view+json": {
       "version_major": 2,
       "version_minor": 0,
       "model_id": "831b61390cda4d79bfe52cba3120316e"
      }
     },
     "metadata": {},
     "output_type": "display_data"
    },
    {
     "name": "stdout",
     "output_type": "stream",
     "text": [
      "[50, 8, 8, 45, 8, 45, 45, 45, 45, 8, 8, 8, 45, 45, 45, 45, 45, 45, 45, 45, 8, 45, 8, 8, 45, 45]\n",
      "--- EPOCH 12/1000 ---\n"
     ]
    },
    {
     "data": {
      "text/plain": "train_batch:   0%|          | 0/305 [00:00<?, ?it/s]",
      "application/vnd.jupyter.widget-view+json": {
       "version_major": 2,
       "version_minor": 0,
       "model_id": "0ecd89b2c84f439d9a0020b16021358e"
      }
     },
     "metadata": {},
     "output_type": "display_data"
    },
    {
     "data": {
      "text/plain": "test_batch:   0%|          | 0/34 [00:00<?, ?it/s]",
      "application/vnd.jupyter.widget-view+json": {
       "version_major": 2,
       "version_minor": 0,
       "model_id": "62f7badb561244688f9f1ced056a1d6a"
      }
     },
     "metadata": {},
     "output_type": "display_data"
    },
    {
     "name": "stdout",
     "output_type": "stream",
     "text": [
      "Epoch    12: reducing learning rate of group 0 to 5.9049e-02.\n",
      "[50, 24, 45, 45, 45, 45, 45, 45, 45, 45, 45, 45, 45, 45, 45, 45, 45, 45, 45, 45, 45, 45, 45, 45, 45, 45]\n",
      "--- EPOCH 13/1000 ---\n"
     ]
    },
    {
     "data": {
      "text/plain": "train_batch:   0%|          | 0/305 [00:00<?, ?it/s]",
      "application/vnd.jupyter.widget-view+json": {
       "version_major": 2,
       "version_minor": 0,
       "model_id": "e88f9c9d3667496d9f31f7e3961e779d"
      }
     },
     "metadata": {},
     "output_type": "display_data"
    },
    {
     "data": {
      "text/plain": "test_batch:   0%|          | 0/34 [00:00<?, ?it/s]",
      "application/vnd.jupyter.widget-view+json": {
       "version_major": 2,
       "version_minor": 0,
       "model_id": "7ca4be8722114b8c917624681b56adc4"
      }
     },
     "metadata": {},
     "output_type": "display_data"
    },
    {
     "name": "stdout",
     "output_type": "stream",
     "text": [
      "[50, 8, 15, 45, 45, 45, 45, 45, 45, 45, 45, 45, 45, 15, 15, 45, 45, 45, 45, 45, 45, 45, 45, 45, 45, 45]\n",
      "--- EPOCH 14/1000 ---\n"
     ]
    },
    {
     "data": {
      "text/plain": "train_batch:   0%|          | 0/305 [00:00<?, ?it/s]",
      "application/vnd.jupyter.widget-view+json": {
       "version_major": 2,
       "version_minor": 0,
       "model_id": "4c0f4cf53ac54f7587c0185b3c0e043c"
      }
     },
     "metadata": {},
     "output_type": "display_data"
    },
    {
     "data": {
      "text/plain": "test_batch:   0%|          | 0/34 [00:00<?, ?it/s]",
      "application/vnd.jupyter.widget-view+json": {
       "version_major": 2,
       "version_minor": 0,
       "model_id": "7b4bf66c861d43fda4b0a00440bebba9"
      }
     },
     "metadata": {},
     "output_type": "display_data"
    },
    {
     "name": "stdout",
     "output_type": "stream",
     "text": [
      "Epoch    14: reducing learning rate of group 0 to 5.3144e-02.\n",
      "[50, 32, 15, 45, 45, 45, 45, 45, 45, 45, 45, 45, 45, 45, 45, 45, 45, 45, 45, 45, 45, 45, 45, 45, 45, 45]\n",
      "--- EPOCH 15/1000 ---\n"
     ]
    },
    {
     "data": {
      "text/plain": "train_batch:   0%|          | 0/305 [00:00<?, ?it/s]",
      "application/vnd.jupyter.widget-view+json": {
       "version_major": 2,
       "version_minor": 0,
       "model_id": "20f400645ef94439956f8ec3703511ec"
      }
     },
     "metadata": {},
     "output_type": "display_data"
    },
    {
     "data": {
      "text/plain": "test_batch:   0%|          | 0/34 [00:00<?, ?it/s]",
      "application/vnd.jupyter.widget-view+json": {
       "version_major": 2,
       "version_minor": 0,
       "model_id": "b407c6b46fc44926ac2bcfc71d16df71"
      }
     },
     "metadata": {},
     "output_type": "display_data"
    },
    {
     "name": "stdout",
     "output_type": "stream",
     "text": [
      "[50, 9, 9, 9, 9, 9, 9, 9, 9, 9, 9, 9, 9, 9, 9, 9, 9, 9, 9, 9, 9, 9, 9, 9, 9, 9]\n",
      "--- EPOCH 16/1000 ---\n"
     ]
    },
    {
     "data": {
      "text/plain": "train_batch:   0%|          | 0/305 [00:00<?, ?it/s]",
      "application/vnd.jupyter.widget-view+json": {
       "version_major": 2,
       "version_minor": 0,
       "model_id": "6c8239aa367e4c01a2ffccb050e1708d"
      }
     },
     "metadata": {},
     "output_type": "display_data"
    },
    {
     "data": {
      "text/plain": "test_batch:   0%|          | 0/34 [00:00<?, ?it/s]",
      "application/vnd.jupyter.widget-view+json": {
       "version_major": 2,
       "version_minor": 0,
       "model_id": "19b520314d344a79b34825326a1f842a"
      }
     },
     "metadata": {},
     "output_type": "display_data"
    },
    {
     "name": "stdout",
     "output_type": "stream",
     "text": [
      "Epoch    16: reducing learning rate of group 0 to 4.7830e-02.\n",
      "[50, 8, 15, 45, 45, 45, 8, 45, 45, 45, 45, 45, 9, 45, 45, 45, 8, 45, 45, 45, 45, 45, 45, 45, 45, 9]\n",
      "--- EPOCH 17/1000 ---\n"
     ]
    },
    {
     "data": {
      "text/plain": "train_batch:   0%|          | 0/305 [00:00<?, ?it/s]",
      "application/vnd.jupyter.widget-view+json": {
       "version_major": 2,
       "version_minor": 0,
       "model_id": "473f6f51e4074a268d9cb294afcee74e"
      }
     },
     "metadata": {},
     "output_type": "display_data"
    },
    {
     "data": {
      "text/plain": "test_batch:   0%|          | 0/34 [00:00<?, ?it/s]",
      "application/vnd.jupyter.widget-view+json": {
       "version_major": 2,
       "version_minor": 0,
       "model_id": "82601efabb7d4f22a829dab4fc8d3a16"
      }
     },
     "metadata": {},
     "output_type": "display_data"
    },
    {
     "name": "stdout",
     "output_type": "stream",
     "text": [
      "[50, 8, 15, 8, 8, 8, 8, 8, 45, 45, 8, 8, 45, 8, 8, 8, 8, 15, 8, 8, 8, 8, 45, 46, 46, 8]\n",
      "--- EPOCH 18/1000 ---\n"
     ]
    },
    {
     "data": {
      "text/plain": "train_batch:   0%|          | 0/305 [00:00<?, ?it/s]",
      "application/vnd.jupyter.widget-view+json": {
       "version_major": 2,
       "version_minor": 0,
       "model_id": "5d96a15366ac4b6087cc9c3441a67da0"
      }
     },
     "metadata": {},
     "output_type": "display_data"
    },
    {
     "data": {
      "text/plain": "test_batch:   0%|          | 0/34 [00:00<?, ?it/s]",
      "application/vnd.jupyter.widget-view+json": {
       "version_major": 2,
       "version_minor": 0,
       "model_id": "9b88313dfb324b5d88d5e0677f35b05a"
      }
     },
     "metadata": {},
     "output_type": "display_data"
    },
    {
     "name": "stdout",
     "output_type": "stream",
     "text": [
      "Epoch    18: reducing learning rate of group 0 to 4.3047e-02.\n",
      "[50, 8, 16, 16, 8, 16, 8, 16, 45, 16, 16, 16, 16, 16, 16, 16, 16, 16, 16, 16, 16, 16, 16, 16, 16, 45]\n",
      "--- EPOCH 19/1000 ---\n"
     ]
    },
    {
     "data": {
      "text/plain": "train_batch:   0%|          | 0/305 [00:00<?, ?it/s]",
      "application/vnd.jupyter.widget-view+json": {
       "version_major": 2,
       "version_minor": 0,
       "model_id": "d31bb0a1c61d4aa8825ee054ec8a66bb"
      }
     },
     "metadata": {},
     "output_type": "display_data"
    },
    {
     "data": {
      "text/plain": "test_batch:   0%|          | 0/34 [00:00<?, ?it/s]",
      "application/vnd.jupyter.widget-view+json": {
       "version_major": 2,
       "version_minor": 0,
       "model_id": "5d3b35623a0a48edb20fa1e76cb4500d"
      }
     },
     "metadata": {},
     "output_type": "display_data"
    },
    {
     "name": "stdout",
     "output_type": "stream",
     "text": [
      "[50, 8, 8, 9, 8, 45, 8, 45, 45, 45, 45, 45, 9, 8, 45, 45, 45, 9, 8, 45, 45, 45, 45, 45, 45, 45]\n",
      "--- EPOCH 20/1000 ---\n"
     ]
    },
    {
     "data": {
      "text/plain": "train_batch:   0%|          | 0/305 [00:00<?, ?it/s]",
      "application/vnd.jupyter.widget-view+json": {
       "version_major": 2,
       "version_minor": 0,
       "model_id": "499f3493bceb4168b8e548aedce694a4"
      }
     },
     "metadata": {},
     "output_type": "display_data"
    },
    {
     "data": {
      "text/plain": "test_batch:   0%|          | 0/34 [00:00<?, ?it/s]",
      "application/vnd.jupyter.widget-view+json": {
       "version_major": 2,
       "version_minor": 0,
       "model_id": "a83eeb5aa8be4a72b378b242b524c115"
      }
     },
     "metadata": {},
     "output_type": "display_data"
    },
    {
     "name": "stdout",
     "output_type": "stream",
     "text": [
      "Epoch    20: reducing learning rate of group 0 to 3.8742e-02.\n",
      "[50, 8, 23, 45, 45, 33, 8, 8, 8, 8, 33, 45, 45, 8, 8, 8, 15, 45, 33, 8, 8, 33, 45, 45, 45, 45]\n",
      "--- EPOCH 21/1000 ---\n"
     ]
    },
    {
     "data": {
      "text/plain": "train_batch:   0%|          | 0/305 [00:00<?, ?it/s]",
      "application/vnd.jupyter.widget-view+json": {
       "version_major": 2,
       "version_minor": 0,
       "model_id": "88c19ed9584b4dc6a55c53db77af671a"
      }
     },
     "metadata": {},
     "output_type": "display_data"
    },
    {
     "data": {
      "text/plain": "test_batch:   0%|          | 0/34 [00:00<?, ?it/s]",
      "application/vnd.jupyter.widget-view+json": {
       "version_major": 2,
       "version_minor": 0,
       "model_id": "ae2827d1160847de9bb6bd0fc1af4050"
      }
     },
     "metadata": {},
     "output_type": "display_data"
    },
    {
     "name": "stdout",
     "output_type": "stream",
     "text": [
      "[50, 8, 45, 8, 8, 8, 8, 8, 8, 45, 8, 8, 45, 8, 8, 8, 45, 45, 45, 8, 8, 8, 8, 8, 8, 8]\n",
      "--- EPOCH 22/1000 ---\n"
     ]
    },
    {
     "data": {
      "text/plain": "train_batch:   0%|          | 0/305 [00:00<?, ?it/s]",
      "application/vnd.jupyter.widget-view+json": {
       "version_major": 2,
       "version_minor": 0,
       "model_id": "c8b9f57ebf4740e2a87fcb0dd2e5c10a"
      }
     },
     "metadata": {},
     "output_type": "display_data"
    },
    {
     "data": {
      "text/plain": "test_batch:   0%|          | 0/34 [00:00<?, ?it/s]",
      "application/vnd.jupyter.widget-view+json": {
       "version_major": 2,
       "version_minor": 0,
       "model_id": "ce760e7049f84703b3d2b176a687d3b9"
      }
     },
     "metadata": {},
     "output_type": "display_data"
    },
    {
     "name": "stdout",
     "output_type": "stream",
     "text": [
      "Epoch    22: reducing learning rate of group 0 to 3.4868e-02.\n",
      "[50, 8, 15, 8, 45, 45, 45, 8, 45, 45, 45, 45, 9, 45, 45, 45, 45, 45, 45, 9, 9, 9, 45, 45, 9, 45]\n",
      "--- EPOCH 23/1000 ---\n"
     ]
    },
    {
     "data": {
      "text/plain": "train_batch:   0%|          | 0/305 [00:00<?, ?it/s]",
      "application/vnd.jupyter.widget-view+json": {
       "version_major": 2,
       "version_minor": 0,
       "model_id": "b304c4353e8e431288075c91e5cf3e58"
      }
     },
     "metadata": {},
     "output_type": "display_data"
    },
    {
     "data": {
      "text/plain": "test_batch:   0%|          | 0/34 [00:00<?, ?it/s]",
      "application/vnd.jupyter.widget-view+json": {
       "version_major": 2,
       "version_minor": 0,
       "model_id": "ad859866559448f4824b9f168073d879"
      }
     },
     "metadata": {},
     "output_type": "display_data"
    },
    {
     "name": "stdout",
     "output_type": "stream",
     "text": [
      "[50, 8, 8, 8, 8, 45, 8, 8, 8, 45, 8, 8, 8, 9, 8, 8, 8, 45, 8, 8, 8, 45, 8, 8, 8, 8]\n",
      "--- EPOCH 24/1000 ---\n"
     ]
    },
    {
     "data": {
      "text/plain": "train_batch:   0%|          | 0/305 [00:00<?, ?it/s]",
      "application/vnd.jupyter.widget-view+json": {
       "version_major": 2,
       "version_minor": 0,
       "model_id": "94d1b87615344c80be5b8431bd259285"
      }
     },
     "metadata": {},
     "output_type": "display_data"
    },
    {
     "data": {
      "text/plain": "test_batch:   0%|          | 0/34 [00:00<?, ?it/s]",
      "application/vnd.jupyter.widget-view+json": {
       "version_major": 2,
       "version_minor": 0,
       "model_id": "53740fa3566d4492a3e4ef5a1095462a"
      }
     },
     "metadata": {},
     "output_type": "display_data"
    },
    {
     "name": "stdout",
     "output_type": "stream",
     "text": [
      "Epoch    24: reducing learning rate of group 0 to 3.1381e-02.\n",
      "[50, 8, 8, 45, 45, 8, 45, 45, 45, 45, 45, 45, 8, 45, 8, 8, 45, 8, 8, 8, 8, 8, 45, 8, 45, 8]\n",
      "--- EPOCH 25/1000 ---\n"
     ]
    },
    {
     "data": {
      "text/plain": "train_batch:   0%|          | 0/305 [00:00<?, ?it/s]",
      "application/vnd.jupyter.widget-view+json": {
       "version_major": 2,
       "version_minor": 0,
       "model_id": "e9d71ca3bdcc4684882e5b8c1864639c"
      }
     },
     "metadata": {},
     "output_type": "display_data"
    },
    {
     "data": {
      "text/plain": "test_batch:   0%|          | 0/34 [00:00<?, ?it/s]",
      "application/vnd.jupyter.widget-view+json": {
       "version_major": 2,
       "version_minor": 0,
       "model_id": "c338e2cd31534ccfaec7f3e6adf33aab"
      }
     },
     "metadata": {},
     "output_type": "display_data"
    },
    {
     "name": "stdout",
     "output_type": "stream",
     "text": [
      "[50, 9, 45, 8, 8, 8, 8, 8, 8, 8, 8, 8, 8, 8, 8, 8, 45, 8, 8, 8, 45, 8, 8, 8, 8, 8]\n",
      "--- EPOCH 26/1000 ---\n"
     ]
    },
    {
     "data": {
      "text/plain": "train_batch:   0%|          | 0/305 [00:00<?, ?it/s]",
      "application/vnd.jupyter.widget-view+json": {
       "version_major": 2,
       "version_minor": 0,
       "model_id": "262bdfec4e4642cf8719e253571aee00"
      }
     },
     "metadata": {},
     "output_type": "display_data"
    },
    {
     "data": {
      "text/plain": "test_batch:   0%|          | 0/34 [00:00<?, ?it/s]",
      "application/vnd.jupyter.widget-view+json": {
       "version_major": 2,
       "version_minor": 0,
       "model_id": "4b2a509069434598a89c6f11779617e5"
      }
     },
     "metadata": {},
     "output_type": "display_data"
    },
    {
     "name": "stdout",
     "output_type": "stream",
     "text": [
      "Epoch    26: reducing learning rate of group 0 to 2.8243e-02.\n",
      "[50, 9, 45, 8, 8, 8, 8, 8, 15, 8, 8, 9, 8, 8, 8, 8, 8, 8, 8, 8, 8, 8, 45, 8, 8, 8]\n",
      "--- EPOCH 27/1000 ---\n"
     ]
    },
    {
     "data": {
      "text/plain": "train_batch:   0%|          | 0/305 [00:00<?, ?it/s]",
      "application/vnd.jupyter.widget-view+json": {
       "version_major": 2,
       "version_minor": 0,
       "model_id": "24159c7aa4244bfebf6720ff618875cd"
      }
     },
     "metadata": {},
     "output_type": "display_data"
    },
    {
     "data": {
      "text/plain": "test_batch:   0%|          | 0/34 [00:00<?, ?it/s]",
      "application/vnd.jupyter.widget-view+json": {
       "version_major": 2,
       "version_minor": 0,
       "model_id": "1da67d48cde14016b025b66a712b215b"
      }
     },
     "metadata": {},
     "output_type": "display_data"
    },
    {
     "name": "stdout",
     "output_type": "stream",
     "text": [
      "[50, 9, 8, 8, 8, 8, 8, 8, 8, 10, 8, 8, 8, 45, 8, 8, 8, 8, 8, 15, 8, 8, 8, 8, 8, 8]\n",
      "--- EPOCH 28/1000 ---\n"
     ]
    },
    {
     "data": {
      "text/plain": "train_batch:   0%|          | 0/305 [00:00<?, ?it/s]",
      "application/vnd.jupyter.widget-view+json": {
       "version_major": 2,
       "version_minor": 0,
       "model_id": "96f57b622c634d168b38de2e38f35791"
      }
     },
     "metadata": {},
     "output_type": "display_data"
    },
    {
     "data": {
      "text/plain": "test_batch:   0%|          | 0/34 [00:00<?, ?it/s]",
      "application/vnd.jupyter.widget-view+json": {
       "version_major": 2,
       "version_minor": 0,
       "model_id": "6a82d13d0d284eeebaf0a901666554e1"
      }
     },
     "metadata": {},
     "output_type": "display_data"
    },
    {
     "name": "stdout",
     "output_type": "stream",
     "text": [
      "Epoch    28: reducing learning rate of group 0 to 2.5419e-02.\n",
      "[50, 8, 8, 8, 8, 8, 8, 8, 8, 8, 8, 8, 8, 45, 8, 8, 8, 8, 45, 45, 45, 8, 8, 8, 8, 8]\n",
      "--- EPOCH 29/1000 ---\n"
     ]
    },
    {
     "data": {
      "text/plain": "train_batch:   0%|          | 0/305 [00:00<?, ?it/s]",
      "application/vnd.jupyter.widget-view+json": {
       "version_major": 2,
       "version_minor": 0,
       "model_id": "bbe4f449c2fd4fa39b2d14aae8b30223"
      }
     },
     "metadata": {},
     "output_type": "display_data"
    },
    {
     "data": {
      "text/plain": "test_batch:   0%|          | 0/34 [00:00<?, ?it/s]",
      "application/vnd.jupyter.widget-view+json": {
       "version_major": 2,
       "version_minor": 0,
       "model_id": "62555e5e3c534b428316f764965aab5f"
      }
     },
     "metadata": {},
     "output_type": "display_data"
    },
    {
     "name": "stdout",
     "output_type": "stream",
     "text": [
      "[50, 8, 8, 8, 8, 8, 45, 51]\n",
      "--- EPOCH 30/1000 ---\n"
     ]
    },
    {
     "data": {
      "text/plain": "train_batch:   0%|          | 0/305 [00:00<?, ?it/s]",
      "application/vnd.jupyter.widget-view+json": {
       "version_major": 2,
       "version_minor": 0,
       "model_id": "bf40394983e84ef989548458b733b5fc"
      }
     },
     "metadata": {},
     "output_type": "display_data"
    },
    {
     "data": {
      "text/plain": "test_batch:   0%|          | 0/34 [00:00<?, ?it/s]",
      "application/vnd.jupyter.widget-view+json": {
       "version_major": 2,
       "version_minor": 0,
       "model_id": "4fa3cf9a5d5e4df9ae16b6d7a80d0638"
      }
     },
     "metadata": {},
     "output_type": "display_data"
    },
    {
     "name": "stdout",
     "output_type": "stream",
     "text": [
      "Epoch    30: reducing learning rate of group 0 to 2.2877e-02.\n",
      "[50, 8, 8, 8, 8, 8, 8, 8, 8, 8, 8, 8, 8, 8, 8, 8, 8, 8, 8, 8, 8, 8, 8, 8, 8, 8]\n",
      "--- EPOCH 31/1000 ---\n"
     ]
    },
    {
     "data": {
      "text/plain": "train_batch:   0%|          | 0/305 [00:00<?, ?it/s]",
      "application/vnd.jupyter.widget-view+json": {
       "version_major": 2,
       "version_minor": 0,
       "model_id": "8e9344be7b6c48c8b4f2097e8d094e23"
      }
     },
     "metadata": {},
     "output_type": "display_data"
    },
    {
     "data": {
      "text/plain": "test_batch:   0%|          | 0/34 [00:00<?, ?it/s]",
      "application/vnd.jupyter.widget-view+json": {
       "version_major": 2,
       "version_minor": 0,
       "model_id": "6a778229afe24fe8bbb4339a37a7f598"
      }
     },
     "metadata": {},
     "output_type": "display_data"
    },
    {
     "name": "stdout",
     "output_type": "stream",
     "text": [
      "[50, 8, 8, 8, 8, 8, 8, 8, 45, 8, 8, 8, 8, 8, 8, 8, 8, 8, 8, 8, 8, 8, 8, 8, 8, 8]\n",
      "--- EPOCH 32/1000 ---\n"
     ]
    },
    {
     "data": {
      "text/plain": "train_batch:   0%|          | 0/305 [00:00<?, ?it/s]",
      "application/vnd.jupyter.widget-view+json": {
       "version_major": 2,
       "version_minor": 0,
       "model_id": "d810ddfe790449d7b7a2e3dcde8e0ef0"
      }
     },
     "metadata": {},
     "output_type": "display_data"
    },
    {
     "data": {
      "text/plain": "test_batch:   0%|          | 0/34 [00:00<?, ?it/s]",
      "application/vnd.jupyter.widget-view+json": {
       "version_major": 2,
       "version_minor": 0,
       "model_id": "1aaf3a05865047358c2458be5b7f03c7"
      }
     },
     "metadata": {},
     "output_type": "display_data"
    },
    {
     "name": "stdout",
     "output_type": "stream",
     "text": [
      "Epoch    32: reducing learning rate of group 0 to 2.0589e-02.\n",
      "[50, 8, 8, 8, 10, 8, 23, 8, 8, 8, 8, 8, 8, 45, 8, 45, 8, 8, 45, 8, 10, 8, 8, 8, 8, 8]\n",
      "--- EPOCH 33/1000 ---\n"
     ]
    },
    {
     "data": {
      "text/plain": "train_batch:   0%|          | 0/305 [00:00<?, ?it/s]",
      "application/vnd.jupyter.widget-view+json": {
       "version_major": 2,
       "version_minor": 0,
       "model_id": "c42f0014520b40a6af3c8b3b9139a9ea"
      }
     },
     "metadata": {},
     "output_type": "display_data"
    },
    {
     "data": {
      "text/plain": "test_batch:   0%|          | 0/34 [00:00<?, ?it/s]",
      "application/vnd.jupyter.widget-view+json": {
       "version_major": 2,
       "version_minor": 0,
       "model_id": "27052e3d0f8c43a6bec46a8fd1c7ff95"
      }
     },
     "metadata": {},
     "output_type": "display_data"
    },
    {
     "name": "stdout",
     "output_type": "stream",
     "text": [
      "[50, 8, 8, 8, 8, 8, 8, 45, 8, 8, 8, 8, 45, 8, 8, 8, 8, 8, 8, 8, 8, 8, 8, 8, 8, 8]\n",
      "--- EPOCH 34/1000 ---\n"
     ]
    },
    {
     "data": {
      "text/plain": "train_batch:   0%|          | 0/305 [00:00<?, ?it/s]",
      "application/vnd.jupyter.widget-view+json": {
       "version_major": 2,
       "version_minor": 0,
       "model_id": "5bba88a5374d4f2c86240efdd61f4c43"
      }
     },
     "metadata": {},
     "output_type": "display_data"
    },
    {
     "data": {
      "text/plain": "test_batch:   0%|          | 0/34 [00:00<?, ?it/s]",
      "application/vnd.jupyter.widget-view+json": {
       "version_major": 2,
       "version_minor": 0,
       "model_id": "d883edbceb804297b5312af9ce2de973"
      }
     },
     "metadata": {},
     "output_type": "display_data"
    },
    {
     "name": "stdout",
     "output_type": "stream",
     "text": [
      "Epoch    34: reducing learning rate of group 0 to 1.8530e-02.\n",
      "[50, 8, 8, 8, 8, 8, 8, 51]\n",
      "--- EPOCH 35/1000 ---\n"
     ]
    },
    {
     "data": {
      "text/plain": "train_batch:   0%|          | 0/305 [00:00<?, ?it/s]",
      "application/vnd.jupyter.widget-view+json": {
       "version_major": 2,
       "version_minor": 0,
       "model_id": "4dc7a6d29d8d4551a1e3e02402a024b1"
      }
     },
     "metadata": {},
     "output_type": "display_data"
    },
    {
     "data": {
      "text/plain": "test_batch:   0%|          | 0/34 [00:00<?, ?it/s]",
      "application/vnd.jupyter.widget-view+json": {
       "version_major": 2,
       "version_minor": 0,
       "model_id": "2ba0a7e70d8e439c930cccf2018d0bdb"
      }
     },
     "metadata": {},
     "output_type": "display_data"
    },
    {
     "name": "stdout",
     "output_type": "stream",
     "text": [
      "[50, 8, 8, 45, 8, 8, 8, 8, 8, 8, 45, 8, 8, 8, 8, 8, 8, 8, 8, 8, 8, 8, 8, 8, 8, 8]\n",
      "--- EPOCH 36/1000 ---\n"
     ]
    },
    {
     "data": {
      "text/plain": "train_batch:   0%|          | 0/305 [00:00<?, ?it/s]",
      "application/vnd.jupyter.widget-view+json": {
       "version_major": 2,
       "version_minor": 0,
       "model_id": "b284beabeaa243ee8964ae2cd2528587"
      }
     },
     "metadata": {},
     "output_type": "display_data"
    },
    {
     "data": {
      "text/plain": "test_batch:   0%|          | 0/34 [00:00<?, ?it/s]",
      "application/vnd.jupyter.widget-view+json": {
       "version_major": 2,
       "version_minor": 0,
       "model_id": "c4bdfd37a2ed4be6a6add9d46fa1c4ca"
      }
     },
     "metadata": {},
     "output_type": "display_data"
    },
    {
     "name": "stdout",
     "output_type": "stream",
     "text": [
      "Epoch    36: reducing learning rate of group 0 to 1.6677e-02.\n",
      "[50, 8, 45, 8, 8, 45, 8, 8, 8, 8, 8, 8, 8, 8, 8, 8, 8, 8, 8, 8, 8, 8, 8, 8, 8, 8]\n",
      "--- EPOCH 37/1000 ---\n"
     ]
    },
    {
     "data": {
      "text/plain": "train_batch:   0%|          | 0/305 [00:00<?, ?it/s]",
      "application/vnd.jupyter.widget-view+json": {
       "version_major": 2,
       "version_minor": 0,
       "model_id": "48fee355f1bf44f38fe9d93e8c77fdb1"
      }
     },
     "metadata": {},
     "output_type": "display_data"
    },
    {
     "data": {
      "text/plain": "test_batch:   0%|          | 0/34 [00:00<?, ?it/s]",
      "application/vnd.jupyter.widget-view+json": {
       "version_major": 2,
       "version_minor": 0,
       "model_id": "32d74b2ad8a34921a154a93005be1a1d"
      }
     },
     "metadata": {},
     "output_type": "display_data"
    },
    {
     "name": "stdout",
     "output_type": "stream",
     "text": [
      "[50, 8, 8, 8, 8, 8, 8, 8, 8, 8, 8, 8, 8, 8, 8, 8, 51]\n",
      "--- EPOCH 38/1000 ---\n"
     ]
    },
    {
     "data": {
      "text/plain": "train_batch:   0%|          | 0/305 [00:00<?, ?it/s]",
      "application/vnd.jupyter.widget-view+json": {
       "version_major": 2,
       "version_minor": 0,
       "model_id": "26413f344d38441c9cee866bbef1b3f3"
      }
     },
     "metadata": {},
     "output_type": "display_data"
    },
    {
     "data": {
      "text/plain": "test_batch:   0%|          | 0/34 [00:00<?, ?it/s]",
      "application/vnd.jupyter.widget-view+json": {
       "version_major": 2,
       "version_minor": 0,
       "model_id": "ca74a3a0a54c461aa205c4ab335ac4ec"
      }
     },
     "metadata": {},
     "output_type": "display_data"
    },
    {
     "name": "stdout",
     "output_type": "stream",
     "text": [
      "Epoch    38: reducing learning rate of group 0 to 1.5009e-02.\n",
      "[50, 8, 8, 8, 8, 8, 8, 8, 8, 8, 8, 8, 8, 8, 8, 8, 8, 8, 8, 8, 8, 8, 8, 8, 8, 8]\n",
      "--- EPOCH 39/1000 ---\n"
     ]
    },
    {
     "data": {
      "text/plain": "train_batch:   0%|          | 0/305 [00:00<?, ?it/s]",
      "application/vnd.jupyter.widget-view+json": {
       "version_major": 2,
       "version_minor": 0,
       "model_id": "80e755e67e884600bfd4f123f7e5cc7b"
      }
     },
     "metadata": {},
     "output_type": "display_data"
    },
    {
     "data": {
      "text/plain": "test_batch:   0%|          | 0/34 [00:00<?, ?it/s]",
      "application/vnd.jupyter.widget-view+json": {
       "version_major": 2,
       "version_minor": 0,
       "model_id": "07886847bcce4c5aaf3ad789f07c47a3"
      }
     },
     "metadata": {},
     "output_type": "display_data"
    },
    {
     "name": "stdout",
     "output_type": "stream",
     "text": [
      "[50, 8, 16, 8, 8, 8, 8, 8, 45, 8, 8, 8, 8, 8, 8, 51]\n",
      "--- EPOCH 40/1000 ---\n"
     ]
    },
    {
     "data": {
      "text/plain": "train_batch:   0%|          | 0/305 [00:00<?, ?it/s]",
      "application/vnd.jupyter.widget-view+json": {
       "version_major": 2,
       "version_minor": 0,
       "model_id": "4e00f60429614be8bdc78cd8e3171502"
      }
     },
     "metadata": {},
     "output_type": "display_data"
    },
    {
     "data": {
      "text/plain": "test_batch:   0%|          | 0/34 [00:00<?, ?it/s]",
      "application/vnd.jupyter.widget-view+json": {
       "version_major": 2,
       "version_minor": 0,
       "model_id": "2539a6bd53cd45729ea72937e767b602"
      }
     },
     "metadata": {},
     "output_type": "display_data"
    },
    {
     "name": "stdout",
     "output_type": "stream",
     "text": [
      "Epoch    40: reducing learning rate of group 0 to 1.3509e-02.\n",
      "[50, 8, 16, 8, 8, 8, 45, 8, 8, 8, 8, 8, 8, 8, 8, 8, 8, 8, 8, 8, 8, 8, 8, 8, 8, 8]\n",
      "--- EPOCH 41/1000 ---\n"
     ]
    },
    {
     "data": {
      "text/plain": "train_batch:   0%|          | 0/305 [00:00<?, ?it/s]",
      "application/vnd.jupyter.widget-view+json": {
       "version_major": 2,
       "version_minor": 0,
       "model_id": "8222e97b772c478486bbbeb001d0d932"
      }
     },
     "metadata": {},
     "output_type": "display_data"
    },
    {
     "data": {
      "text/plain": "test_batch:   0%|          | 0/34 [00:00<?, ?it/s]",
      "application/vnd.jupyter.widget-view+json": {
       "version_major": 2,
       "version_minor": 0,
       "model_id": "2ce8647b3ba74637bf1be28ffe8b48d4"
      }
     },
     "metadata": {},
     "output_type": "display_data"
    },
    {
     "name": "stdout",
     "output_type": "stream",
     "text": [
      "[50, 8, 8, 8, 8, 51]\n",
      "--- EPOCH 42/1000 ---\n"
     ]
    },
    {
     "data": {
      "text/plain": "train_batch:   0%|          | 0/305 [00:00<?, ?it/s]",
      "application/vnd.jupyter.widget-view+json": {
       "version_major": 2,
       "version_minor": 0,
       "model_id": "b10c23548fd64e728214d2d689d8d904"
      }
     },
     "metadata": {},
     "output_type": "display_data"
    },
    {
     "data": {
      "text/plain": "test_batch:   0%|          | 0/34 [00:00<?, ?it/s]",
      "application/vnd.jupyter.widget-view+json": {
       "version_major": 2,
       "version_minor": 0,
       "model_id": "887f77665263442bbba34ca3fa1f1b27"
      }
     },
     "metadata": {},
     "output_type": "display_data"
    },
    {
     "name": "stdout",
     "output_type": "stream",
     "text": [
      "Epoch    42: reducing learning rate of group 0 to 1.2158e-02.\n",
      "[50, 8, 8, 8, 8, 8, 51]\n",
      "--- EPOCH 43/1000 ---\n"
     ]
    },
    {
     "data": {
      "text/plain": "train_batch:   0%|          | 0/305 [00:00<?, ?it/s]",
      "application/vnd.jupyter.widget-view+json": {
       "version_major": 2,
       "version_minor": 0,
       "model_id": "c86c9411a2904ad592a81e86806549d5"
      }
     },
     "metadata": {},
     "output_type": "display_data"
    },
    {
     "data": {
      "text/plain": "test_batch:   0%|          | 0/34 [00:00<?, ?it/s]",
      "application/vnd.jupyter.widget-view+json": {
       "version_major": 2,
       "version_minor": 0,
       "model_id": "7b6300c2878142d3b36bd726d2e9304c"
      }
     },
     "metadata": {},
     "output_type": "display_data"
    },
    {
     "name": "stdout",
     "output_type": "stream",
     "text": [
      "[50, 8, 8, 8, 8, 51]\n",
      "--- EPOCH 44/1000 ---\n"
     ]
    },
    {
     "data": {
      "text/plain": "train_batch:   0%|          | 0/305 [00:00<?, ?it/s]",
      "application/vnd.jupyter.widget-view+json": {
       "version_major": 2,
       "version_minor": 0,
       "model_id": "72b8ddab3fe8497893eec858035fdab9"
      }
     },
     "metadata": {},
     "output_type": "display_data"
    },
    {
     "data": {
      "text/plain": "test_batch:   0%|          | 0/34 [00:00<?, ?it/s]",
      "application/vnd.jupyter.widget-view+json": {
       "version_major": 2,
       "version_minor": 0,
       "model_id": "49cc0f6a185b4fc1a84d1a20fbc449c1"
      }
     },
     "metadata": {},
     "output_type": "display_data"
    },
    {
     "name": "stdout",
     "output_type": "stream",
     "text": [
      "Epoch    44: reducing learning rate of group 0 to 1.0942e-02.\n",
      "[50, 32, 8, 8, 8, 51]\n",
      "--- EPOCH 45/1000 ---\n"
     ]
    },
    {
     "data": {
      "text/plain": "train_batch:   0%|          | 0/305 [00:00<?, ?it/s]",
      "application/vnd.jupyter.widget-view+json": {
       "version_major": 2,
       "version_minor": 0,
       "model_id": "d5a5488f7cd14e0fb5035bf41d227a5b"
      }
     },
     "metadata": {},
     "output_type": "display_data"
    },
    {
     "data": {
      "text/plain": "test_batch:   0%|          | 0/34 [00:00<?, ?it/s]",
      "application/vnd.jupyter.widget-view+json": {
       "version_major": 2,
       "version_minor": 0,
       "model_id": "d29a311def4646afba198538333a4f3b"
      }
     },
     "metadata": {},
     "output_type": "display_data"
    },
    {
     "name": "stdout",
     "output_type": "stream",
     "text": [
      "[50, 8, 8, 8, 8, 8, 8, 8, 51]\n",
      "--- EPOCH 46/1000 ---\n"
     ]
    },
    {
     "data": {
      "text/plain": "train_batch:   0%|          | 0/305 [00:00<?, ?it/s]",
      "application/vnd.jupyter.widget-view+json": {
       "version_major": 2,
       "version_minor": 0,
       "model_id": "e24549cd3cbc4c9ebd7a74e652d4eea0"
      }
     },
     "metadata": {},
     "output_type": "display_data"
    },
    {
     "data": {
      "text/plain": "test_batch:   0%|          | 0/34 [00:00<?, ?it/s]",
      "application/vnd.jupyter.widget-view+json": {
       "version_major": 2,
       "version_minor": 0,
       "model_id": "af334c5021e94dbf8bb2937fa1a5c971"
      }
     },
     "metadata": {},
     "output_type": "display_data"
    },
    {
     "name": "stdout",
     "output_type": "stream",
     "text": [
      "Epoch    46: reducing learning rate of group 0 to 9.8477e-03.\n",
      "[50, 8, 24, 8, 8, 8, 8, 8, 8, 8, 8, 8, 8, 8, 8, 8, 51]\n",
      "--- EPOCH 47/1000 ---\n"
     ]
    },
    {
     "data": {
      "text/plain": "train_batch:   0%|          | 0/305 [00:00<?, ?it/s]",
      "application/vnd.jupyter.widget-view+json": {
       "version_major": 2,
       "version_minor": 0,
       "model_id": "565d50c038504aa980d93b96e4da1952"
      }
     },
     "metadata": {},
     "output_type": "display_data"
    },
    {
     "data": {
      "text/plain": "test_batch:   0%|          | 0/34 [00:00<?, ?it/s]",
      "application/vnd.jupyter.widget-view+json": {
       "version_major": 2,
       "version_minor": 0,
       "model_id": "5b50270490814971bc5ef7604902358d"
      }
     },
     "metadata": {},
     "output_type": "display_data"
    },
    {
     "name": "stdout",
     "output_type": "stream",
     "text": [
      "[50, 8, 49, 8, 8, 51]\n",
      "--- EPOCH 48/1000 ---\n"
     ]
    },
    {
     "data": {
      "text/plain": "train_batch:   0%|          | 0/305 [00:00<?, ?it/s]",
      "application/vnd.jupyter.widget-view+json": {
       "version_major": 2,
       "version_minor": 0,
       "model_id": "54dd700e5b904a92a736f74cfac7db0b"
      }
     },
     "metadata": {},
     "output_type": "display_data"
    },
    {
     "data": {
      "text/plain": "test_batch:   0%|          | 0/34 [00:00<?, ?it/s]",
      "application/vnd.jupyter.widget-view+json": {
       "version_major": 2,
       "version_minor": 0,
       "model_id": "4fc45e08557b487fb5a135ff5f74a1f9"
      }
     },
     "metadata": {},
     "output_type": "display_data"
    },
    {
     "name": "stdout",
     "output_type": "stream",
     "text": [
      "Epoch    48: reducing learning rate of group 0 to 8.8629e-03.\n",
      "[50, 8, 16, 51]\n",
      "--- EPOCH 49/1000 ---\n"
     ]
    },
    {
     "data": {
      "text/plain": "train_batch:   0%|          | 0/305 [00:00<?, ?it/s]",
      "application/vnd.jupyter.widget-view+json": {
       "version_major": 2,
       "version_minor": 0,
       "model_id": "70d8eee6f0434c6583f2f51e5dc324d9"
      }
     },
     "metadata": {},
     "output_type": "display_data"
    },
    {
     "data": {
      "text/plain": "test_batch:   0%|          | 0/34 [00:00<?, ?it/s]",
      "application/vnd.jupyter.widget-view+json": {
       "version_major": 2,
       "version_minor": 0,
       "model_id": "f5dc570c66ba42a58dc499c7fa68f7df"
      }
     },
     "metadata": {},
     "output_type": "display_data"
    },
    {
     "name": "stdout",
     "output_type": "stream",
     "text": [
      "[50, 8, 24, 8, 40, 51]\n",
      "--- EPOCH 50/1000 ---\n"
     ]
    },
    {
     "data": {
      "text/plain": "train_batch:   0%|          | 0/305 [00:00<?, ?it/s]",
      "application/vnd.jupyter.widget-view+json": {
       "version_major": 2,
       "version_minor": 0,
       "model_id": "d5ca9da640ea4c17a651fe82b294c3b3"
      }
     },
     "metadata": {},
     "output_type": "display_data"
    },
    {
     "data": {
      "text/plain": "test_batch:   0%|          | 0/34 [00:00<?, ?it/s]",
      "application/vnd.jupyter.widget-view+json": {
       "version_major": 2,
       "version_minor": 0,
       "model_id": "02ed5196490845cbb42f76c3f18acc92"
      }
     },
     "metadata": {},
     "output_type": "display_data"
    },
    {
     "name": "stdout",
     "output_type": "stream",
     "text": [
      "Epoch    50: reducing learning rate of group 0 to 7.9766e-03.\n",
      "[50, 32, 51]\n",
      "--- EPOCH 51/1000 ---\n"
     ]
    },
    {
     "data": {
      "text/plain": "train_batch:   0%|          | 0/305 [00:00<?, ?it/s]",
      "application/vnd.jupyter.widget-view+json": {
       "version_major": 2,
       "version_minor": 0,
       "model_id": "05a8f9829abe45699d798994e7e3a7d8"
      }
     },
     "metadata": {},
     "output_type": "display_data"
    },
    {
     "data": {
      "text/plain": "test_batch:   0%|          | 0/34 [00:00<?, ?it/s]",
      "application/vnd.jupyter.widget-view+json": {
       "version_major": 2,
       "version_minor": 0,
       "model_id": "82d2351f41ce4ecba93bb019f6e9b425"
      }
     },
     "metadata": {},
     "output_type": "display_data"
    },
    {
     "name": "stdout",
     "output_type": "stream",
     "text": [
      "[50, 8, 8, 40, 8, 10, 8, 51]\n",
      "--- EPOCH 52/1000 ---\n"
     ]
    },
    {
     "data": {
      "text/plain": "train_batch:   0%|          | 0/305 [00:00<?, ?it/s]",
      "application/vnd.jupyter.widget-view+json": {
       "version_major": 2,
       "version_minor": 0,
       "model_id": "19ba8d82fca64b9c9863d6fd6e437219"
      }
     },
     "metadata": {},
     "output_type": "display_data"
    },
    {
     "data": {
      "text/plain": "test_batch:   0%|          | 0/34 [00:00<?, ?it/s]",
      "application/vnd.jupyter.widget-view+json": {
       "version_major": 2,
       "version_minor": 0,
       "model_id": "7ff8c42fb00c4a438ec4d2226e425752"
      }
     },
     "metadata": {},
     "output_type": "display_data"
    },
    {
     "name": "stdout",
     "output_type": "stream",
     "text": [
      "Epoch    52: reducing learning rate of group 0 to 7.1790e-03.\n",
      "[50, 8, 18, 51]\n",
      "--- EPOCH 53/1000 ---\n"
     ]
    },
    {
     "data": {
      "text/plain": "train_batch:   0%|          | 0/305 [00:00<?, ?it/s]",
      "application/vnd.jupyter.widget-view+json": {
       "version_major": 2,
       "version_minor": 0,
       "model_id": "c0d50193f28b4698b7615aa52997aa8b"
      }
     },
     "metadata": {},
     "output_type": "display_data"
    },
    {
     "data": {
      "text/plain": "test_batch:   0%|          | 0/34 [00:00<?, ?it/s]",
      "application/vnd.jupyter.widget-view+json": {
       "version_major": 2,
       "version_minor": 0,
       "model_id": "3e6e111ac85b4f56aa91fce7f0629644"
      }
     },
     "metadata": {},
     "output_type": "display_data"
    },
    {
     "name": "stdout",
     "output_type": "stream",
     "text": [
      "[50, 8, 8, 8, 51]\n",
      "--- EPOCH 54/1000 ---\n"
     ]
    },
    {
     "data": {
      "text/plain": "train_batch:   0%|          | 0/305 [00:00<?, ?it/s]",
      "application/vnd.jupyter.widget-view+json": {
       "version_major": 2,
       "version_minor": 0,
       "model_id": "06dd861d16ec43e0ac88d076ccdff95f"
      }
     },
     "metadata": {},
     "output_type": "display_data"
    },
    {
     "data": {
      "text/plain": "test_batch:   0%|          | 0/34 [00:00<?, ?it/s]",
      "application/vnd.jupyter.widget-view+json": {
       "version_major": 2,
       "version_minor": 0,
       "model_id": "6fc92fb22a3249c38a001c3a7299dd2c"
      }
     },
     "metadata": {},
     "output_type": "display_data"
    },
    {
     "name": "stdout",
     "output_type": "stream",
     "text": [
      "Epoch    54: reducing learning rate of group 0 to 6.4611e-03.\n",
      "[50, 8, 8, 51]\n",
      "--- EPOCH 55/1000 ---\n"
     ]
    },
    {
     "data": {
      "text/plain": "train_batch:   0%|          | 0/305 [00:00<?, ?it/s]",
      "application/vnd.jupyter.widget-view+json": {
       "version_major": 2,
       "version_minor": 0,
       "model_id": "cba6713e455d4d02ae869d53ff9900bd"
      }
     },
     "metadata": {},
     "output_type": "display_data"
    },
    {
     "data": {
      "text/plain": "test_batch:   0%|          | 0/34 [00:00<?, ?it/s]",
      "application/vnd.jupyter.widget-view+json": {
       "version_major": 2,
       "version_minor": 0,
       "model_id": "96f52c3062ca46569ef8843d4ad6da57"
      }
     },
     "metadata": {},
     "output_type": "display_data"
    },
    {
     "name": "stdout",
     "output_type": "stream",
     "text": [
      "[50, 8, 18, 40, 8, 51]\n",
      "--- EPOCH 56/1000 ---\n"
     ]
    },
    {
     "data": {
      "text/plain": "train_batch:   0%|          | 0/305 [00:00<?, ?it/s]",
      "application/vnd.jupyter.widget-view+json": {
       "version_major": 2,
       "version_minor": 0,
       "model_id": "e3087e8740a741c8bf83ec70cbcb6d03"
      }
     },
     "metadata": {},
     "output_type": "display_data"
    },
    {
     "data": {
      "text/plain": "test_batch:   0%|          | 0/34 [00:00<?, ?it/s]",
      "application/vnd.jupyter.widget-view+json": {
       "version_major": 2,
       "version_minor": 0,
       "model_id": "fae489983e14457eba4b6912e64684c9"
      }
     },
     "metadata": {},
     "output_type": "display_data"
    },
    {
     "name": "stdout",
     "output_type": "stream",
     "text": [
      "Epoch    56: reducing learning rate of group 0 to 5.8150e-03.\n",
      "[50, 8, 10, 16, 8, 51]\n",
      "--- EPOCH 57/1000 ---\n"
     ]
    },
    {
     "data": {
      "text/plain": "train_batch:   0%|          | 0/305 [00:00<?, ?it/s]",
      "application/vnd.jupyter.widget-view+json": {
       "version_major": 2,
       "version_minor": 0,
       "model_id": "dbc2fa8a7d4245268d3209e51f021669"
      }
     },
     "metadata": {},
     "output_type": "display_data"
    },
    {
     "data": {
      "text/plain": "test_batch:   0%|          | 0/34 [00:00<?, ?it/s]",
      "application/vnd.jupyter.widget-view+json": {
       "version_major": 2,
       "version_minor": 0,
       "model_id": "3cdbeabe0de94cb580fb39d96953d869"
      }
     },
     "metadata": {},
     "output_type": "display_data"
    },
    {
     "name": "stdout",
     "output_type": "stream",
     "text": [
      "[50, 8, 8, 8, 8, 8, 8, 51]\n",
      "--- EPOCH 58/1000 ---\n"
     ]
    },
    {
     "data": {
      "text/plain": "train_batch:   0%|          | 0/305 [00:00<?, ?it/s]",
      "application/vnd.jupyter.widget-view+json": {
       "version_major": 2,
       "version_minor": 0,
       "model_id": "65badac8f3494e9e9fd8bf432eee44b8"
      }
     },
     "metadata": {},
     "output_type": "display_data"
    },
    {
     "data": {
      "text/plain": "test_batch:   0%|          | 0/34 [00:00<?, ?it/s]",
      "application/vnd.jupyter.widget-view+json": {
       "version_major": 2,
       "version_minor": 0,
       "model_id": "6d974c3bc4264a07b910b53b4fa5420e"
      }
     },
     "metadata": {},
     "output_type": "display_data"
    },
    {
     "name": "stdout",
     "output_type": "stream",
     "text": [
      "Epoch    58: reducing learning rate of group 0 to 5.2335e-03.\n",
      "[50, 8, 40, 40, 51]\n",
      "--- EPOCH 59/1000 ---\n"
     ]
    },
    {
     "data": {
      "text/plain": "train_batch:   0%|          | 0/305 [00:00<?, ?it/s]",
      "application/vnd.jupyter.widget-view+json": {
       "version_major": 2,
       "version_minor": 0,
       "model_id": "783ef4e61945495ebbb65c15d08d7a18"
      }
     },
     "metadata": {},
     "output_type": "display_data"
    },
    {
     "data": {
      "text/plain": "test_batch:   0%|          | 0/34 [00:00<?, ?it/s]",
      "application/vnd.jupyter.widget-view+json": {
       "version_major": 2,
       "version_minor": 0,
       "model_id": "5b3a3a4940a0496c8dad7eea01c8279a"
      }
     },
     "metadata": {},
     "output_type": "display_data"
    },
    {
     "name": "stdout",
     "output_type": "stream",
     "text": [
      "\n",
      "*** Saved checkpoint checkpoints/rnn.pt\n",
      "[50, 8, 6, 51]\n",
      "--- EPOCH 60/1000 ---\n"
     ]
    },
    {
     "data": {
      "text/plain": "train_batch:   0%|          | 0/305 [00:00<?, ?it/s]",
      "application/vnd.jupyter.widget-view+json": {
       "version_major": 2,
       "version_minor": 0,
       "model_id": "c967019ab7b8459a9bb4e848d2192004"
      }
     },
     "metadata": {},
     "output_type": "display_data"
    },
    {
     "data": {
      "text/plain": "test_batch:   0%|          | 0/34 [00:00<?, ?it/s]",
      "application/vnd.jupyter.widget-view+json": {
       "version_major": 2,
       "version_minor": 0,
       "model_id": "17bf944a6da5477d877b49baa0d7b2cc"
      }
     },
     "metadata": {},
     "output_type": "display_data"
    },
    {
     "name": "stdout",
     "output_type": "stream",
     "text": [
      "[50, 8, 18, 51]\n",
      "--- EPOCH 61/1000 ---\n"
     ]
    },
    {
     "data": {
      "text/plain": "train_batch:   0%|          | 0/305 [00:00<?, ?it/s]",
      "application/vnd.jupyter.widget-view+json": {
       "version_major": 2,
       "version_minor": 0,
       "model_id": "e4680945a37144cc892bfbe63d19f45c"
      }
     },
     "metadata": {},
     "output_type": "display_data"
    },
    {
     "data": {
      "text/plain": "test_batch:   0%|          | 0/34 [00:00<?, ?it/s]",
      "application/vnd.jupyter.widget-view+json": {
       "version_major": 2,
       "version_minor": 0,
       "model_id": "9f52e0985cc24fd395f254a55dddb211"
      }
     },
     "metadata": {},
     "output_type": "display_data"
    },
    {
     "name": "stdout",
     "output_type": "stream",
     "text": [
      "Epoch    61: reducing learning rate of group 0 to 4.7101e-03.\n",
      "[50, 8, 18, 51]\n",
      "--- EPOCH 62/1000 ---\n"
     ]
    },
    {
     "data": {
      "text/plain": "train_batch:   0%|          | 0/305 [00:00<?, ?it/s]",
      "application/vnd.jupyter.widget-view+json": {
       "version_major": 2,
       "version_minor": 0,
       "model_id": "a80492f8e8984caf80644d46dbc6a0df"
      }
     },
     "metadata": {},
     "output_type": "display_data"
    },
    {
     "data": {
      "text/plain": "test_batch:   0%|          | 0/34 [00:00<?, ?it/s]",
      "application/vnd.jupyter.widget-view+json": {
       "version_major": 2,
       "version_minor": 0,
       "model_id": "6b6ae8274fe34668ab934e47b69cf502"
      }
     },
     "metadata": {},
     "output_type": "display_data"
    },
    {
     "name": "stdout",
     "output_type": "stream",
     "text": [
      "[50, 26, 18, 51]\n",
      "--- EPOCH 63/1000 ---\n"
     ]
    },
    {
     "data": {
      "text/plain": "train_batch:   0%|          | 0/305 [00:00<?, ?it/s]",
      "application/vnd.jupyter.widget-view+json": {
       "version_major": 2,
       "version_minor": 0,
       "model_id": "d7d3efdc314847e2800231048354fa1b"
      }
     },
     "metadata": {},
     "output_type": "display_data"
    },
    {
     "data": {
      "text/plain": "test_batch:   0%|          | 0/34 [00:00<?, ?it/s]",
      "application/vnd.jupyter.widget-view+json": {
       "version_major": 2,
       "version_minor": 0,
       "model_id": "63d078c1fc6043c2bda12be47f1269d5"
      }
     },
     "metadata": {},
     "output_type": "display_data"
    },
    {
     "name": "stdout",
     "output_type": "stream",
     "text": [
      "Epoch    63: reducing learning rate of group 0 to 4.2391e-03.\n",
      "[50, 6, 8, 51]\n",
      "--- EPOCH 64/1000 ---\n"
     ]
    },
    {
     "data": {
      "text/plain": "train_batch:   0%|          | 0/305 [00:00<?, ?it/s]",
      "application/vnd.jupyter.widget-view+json": {
       "version_major": 2,
       "version_minor": 0,
       "model_id": "aa860a13827149b1bc8a1082dc4cc69b"
      }
     },
     "metadata": {},
     "output_type": "display_data"
    },
    {
     "data": {
      "text/plain": "test_batch:   0%|          | 0/34 [00:00<?, ?it/s]",
      "application/vnd.jupyter.widget-view+json": {
       "version_major": 2,
       "version_minor": 0,
       "model_id": "c67e4548b9b14cfdb9dbf1a0d4701c90"
      }
     },
     "metadata": {},
     "output_type": "display_data"
    },
    {
     "name": "stdout",
     "output_type": "stream",
     "text": [
      "[50, 18, 18, 51]\n",
      "--- EPOCH 65/1000 ---\n"
     ]
    },
    {
     "data": {
      "text/plain": "train_batch:   0%|          | 0/305 [00:00<?, ?it/s]",
      "application/vnd.jupyter.widget-view+json": {
       "version_major": 2,
       "version_minor": 0,
       "model_id": "03ac6a30c051471981b756fb9433d7b3"
      }
     },
     "metadata": {},
     "output_type": "display_data"
    },
    {
     "data": {
      "text/plain": "test_batch:   0%|          | 0/34 [00:00<?, ?it/s]",
      "application/vnd.jupyter.widget-view+json": {
       "version_major": 2,
       "version_minor": 0,
       "model_id": "16e76c0c5e9a4d37913e87e0cb23e495"
      }
     },
     "metadata": {},
     "output_type": "display_data"
    },
    {
     "name": "stdout",
     "output_type": "stream",
     "text": [
      "Epoch    65: reducing learning rate of group 0 to 3.8152e-03.\n",
      "[50, 9, 23, 8, 8, 8, 18, 51]\n",
      "--- EPOCH 66/1000 ---\n"
     ]
    },
    {
     "data": {
      "text/plain": "train_batch:   0%|          | 0/305 [00:00<?, ?it/s]",
      "application/vnd.jupyter.widget-view+json": {
       "version_major": 2,
       "version_minor": 0,
       "model_id": "da08bf9647654912b2ebc7dcb2fb19f4"
      }
     },
     "metadata": {},
     "output_type": "display_data"
    },
    {
     "data": {
      "text/plain": "test_batch:   0%|          | 0/34 [00:00<?, ?it/s]",
      "application/vnd.jupyter.widget-view+json": {
       "version_major": 2,
       "version_minor": 0,
       "model_id": "d104a016f9724de68e6c51f881cfc5bc"
      }
     },
     "metadata": {},
     "output_type": "display_data"
    },
    {
     "name": "stdout",
     "output_type": "stream",
     "text": [
      "[50, 8, 23, 18, 8, 51]\n",
      "--- EPOCH 67/1000 ---\n"
     ]
    },
    {
     "data": {
      "text/plain": "train_batch:   0%|          | 0/305 [00:00<?, ?it/s]",
      "application/vnd.jupyter.widget-view+json": {
       "version_major": 2,
       "version_minor": 0,
       "model_id": "c490586a9132487094e8094c8050e0a8"
      }
     },
     "metadata": {},
     "output_type": "display_data"
    },
    {
     "data": {
      "text/plain": "test_batch:   0%|          | 0/34 [00:00<?, ?it/s]",
      "application/vnd.jupyter.widget-view+json": {
       "version_major": 2,
       "version_minor": 0,
       "model_id": "b4edc17f13434ce09dd559d994ee60af"
      }
     },
     "metadata": {},
     "output_type": "display_data"
    },
    {
     "name": "stdout",
     "output_type": "stream",
     "text": [
      "Epoch    67: reducing learning rate of group 0 to 3.4337e-03.\n",
      "[50, 8, 5, 51]\n",
      "--- EPOCH 68/1000 ---\n"
     ]
    },
    {
     "data": {
      "text/plain": "train_batch:   0%|          | 0/305 [00:00<?, ?it/s]",
      "application/vnd.jupyter.widget-view+json": {
       "version_major": 2,
       "version_minor": 0,
       "model_id": "0e9211c6dfbe46749f79f51a26a4cfc8"
      }
     },
     "metadata": {},
     "output_type": "display_data"
    },
    {
     "data": {
      "text/plain": "test_batch:   0%|          | 0/34 [00:00<?, ?it/s]",
      "application/vnd.jupyter.widget-view+json": {
       "version_major": 2,
       "version_minor": 0,
       "model_id": "aa66b2f5239547148ba0b2dbbe38a6dd"
      }
     },
     "metadata": {},
     "output_type": "display_data"
    },
    {
     "name": "stdout",
     "output_type": "stream",
     "text": [
      "[50, 6, 18, 40, 51]\n",
      "--- EPOCH 69/1000 ---\n"
     ]
    },
    {
     "data": {
      "text/plain": "train_batch:   0%|          | 0/305 [00:00<?, ?it/s]",
      "application/vnd.jupyter.widget-view+json": {
       "version_major": 2,
       "version_minor": 0,
       "model_id": "555c8755334c46f9a09b5b2bef7fae35"
      }
     },
     "metadata": {},
     "output_type": "display_data"
    },
    {
     "data": {
      "text/plain": "test_batch:   0%|          | 0/34 [00:00<?, ?it/s]",
      "application/vnd.jupyter.widget-view+json": {
       "version_major": 2,
       "version_minor": 0,
       "model_id": "5bc2dfb2049445d7a5fdceff208248e4"
      }
     },
     "metadata": {},
     "output_type": "display_data"
    },
    {
     "name": "stdout",
     "output_type": "stream",
     "text": [
      "Epoch    69: reducing learning rate of group 0 to 3.0903e-03.\n",
      "[50, 8, 8, 51]\n",
      "--- EPOCH 70/1000 ---\n"
     ]
    },
    {
     "data": {
      "text/plain": "train_batch:   0%|          | 0/305 [00:00<?, ?it/s]",
      "application/vnd.jupyter.widget-view+json": {
       "version_major": 2,
       "version_minor": 0,
       "model_id": "684683cd447e42c48486a6795ec66bbf"
      }
     },
     "metadata": {},
     "output_type": "display_data"
    },
    {
     "data": {
      "text/plain": "test_batch:   0%|          | 0/34 [00:00<?, ?it/s]",
      "application/vnd.jupyter.widget-view+json": {
       "version_major": 2,
       "version_minor": 0,
       "model_id": "cac8ad3ae61440c9b8585e359778e530"
      }
     },
     "metadata": {},
     "output_type": "display_data"
    },
    {
     "name": "stdout",
     "output_type": "stream",
     "text": [
      "[50, 8, 42, 8, 6, 51]\n",
      "--- EPOCH 71/1000 ---\n"
     ]
    },
    {
     "data": {
      "text/plain": "train_batch:   0%|          | 0/305 [00:00<?, ?it/s]",
      "application/vnd.jupyter.widget-view+json": {
       "version_major": 2,
       "version_minor": 0,
       "model_id": "391ed1a848164155915c30b8ef0d8338"
      }
     },
     "metadata": {},
     "output_type": "display_data"
    },
    {
     "data": {
      "text/plain": "test_batch:   0%|          | 0/34 [00:00<?, ?it/s]",
      "application/vnd.jupyter.widget-view+json": {
       "version_major": 2,
       "version_minor": 0,
       "model_id": "a2bfacbce0ee433898b5fa17b1f38325"
      }
     },
     "metadata": {},
     "output_type": "display_data"
    },
    {
     "name": "stdout",
     "output_type": "stream",
     "text": [
      "Epoch    71: reducing learning rate of group 0 to 2.7813e-03.\n",
      "[50, 9, 26, 8, 40, 51]\n",
      "--- EPOCH 72/1000 ---\n"
     ]
    },
    {
     "data": {
      "text/plain": "train_batch:   0%|          | 0/305 [00:00<?, ?it/s]",
      "application/vnd.jupyter.widget-view+json": {
       "version_major": 2,
       "version_minor": 0,
       "model_id": "b4c5b9372ef74ab8b4e4f87c23cfdd22"
      }
     },
     "metadata": {},
     "output_type": "display_data"
    },
    {
     "data": {
      "text/plain": "test_batch:   0%|          | 0/34 [00:00<?, ?it/s]",
      "application/vnd.jupyter.widget-view+json": {
       "version_major": 2,
       "version_minor": 0,
       "model_id": "294d2198024b41ef8c18d611eca734c1"
      }
     },
     "metadata": {},
     "output_type": "display_data"
    },
    {
     "name": "stdout",
     "output_type": "stream",
     "text": [
      "[50, 8, 6, 51]\n",
      "--- EPOCH 73/1000 ---\n"
     ]
    },
    {
     "data": {
      "text/plain": "train_batch:   0%|          | 0/305 [00:00<?, ?it/s]",
      "application/vnd.jupyter.widget-view+json": {
       "version_major": 2,
       "version_minor": 0,
       "model_id": "6cdeed1a2bc2455e9bc902cc91fd643b"
      }
     },
     "metadata": {},
     "output_type": "display_data"
    },
    {
     "data": {
      "text/plain": "test_batch:   0%|          | 0/34 [00:00<?, ?it/s]",
      "application/vnd.jupyter.widget-view+json": {
       "version_major": 2,
       "version_minor": 0,
       "model_id": "48bb9d25cb2341d4ba4dd608f715098e"
      }
     },
     "metadata": {},
     "output_type": "display_data"
    },
    {
     "name": "stdout",
     "output_type": "stream",
     "text": [
      "Epoch    73: reducing learning rate of group 0 to 2.5032e-03.\n",
      "[50, 4, 6, 51]\n",
      "--- EPOCH 74/1000 ---\n"
     ]
    },
    {
     "data": {
      "text/plain": "train_batch:   0%|          | 0/305 [00:00<?, ?it/s]",
      "application/vnd.jupyter.widget-view+json": {
       "version_major": 2,
       "version_minor": 0,
       "model_id": "5afcce404abd4a10bc5ff6693bcda311"
      }
     },
     "metadata": {},
     "output_type": "display_data"
    },
    {
     "data": {
      "text/plain": "test_batch:   0%|          | 0/34 [00:00<?, ?it/s]",
      "application/vnd.jupyter.widget-view+json": {
       "version_major": 2,
       "version_minor": 0,
       "model_id": "caeb9f0d84a34228a99302a42846017d"
      }
     },
     "metadata": {},
     "output_type": "display_data"
    },
    {
     "name": "stdout",
     "output_type": "stream",
     "text": [
      "[50, 32, 6, 51]\n",
      "--- EPOCH 75/1000 ---\n"
     ]
    },
    {
     "data": {
      "text/plain": "train_batch:   0%|          | 0/305 [00:00<?, ?it/s]",
      "application/vnd.jupyter.widget-view+json": {
       "version_major": 2,
       "version_minor": 0,
       "model_id": "5ef31154f2bb467f905132c1c778ecdf"
      }
     },
     "metadata": {},
     "output_type": "display_data"
    },
    {
     "data": {
      "text/plain": "test_batch:   0%|          | 0/34 [00:00<?, ?it/s]",
      "application/vnd.jupyter.widget-view+json": {
       "version_major": 2,
       "version_minor": 0,
       "model_id": "ecd96ebbdfe6425caf613c0ea540efa3"
      }
     },
     "metadata": {},
     "output_type": "display_data"
    },
    {
     "name": "stdout",
     "output_type": "stream",
     "text": [
      "Epoch    75: reducing learning rate of group 0 to 2.2528e-03.\n",
      "[50, 40, 32, 51]\n",
      "--- EPOCH 76/1000 ---\n"
     ]
    },
    {
     "data": {
      "text/plain": "train_batch:   0%|          | 0/305 [00:00<?, ?it/s]",
      "application/vnd.jupyter.widget-view+json": {
       "version_major": 2,
       "version_minor": 0,
       "model_id": "2936e951b3354230bd9978f4514e50da"
      }
     },
     "metadata": {},
     "output_type": "display_data"
    },
    {
     "data": {
      "text/plain": "test_batch:   0%|          | 0/34 [00:00<?, ?it/s]",
      "application/vnd.jupyter.widget-view+json": {
       "version_major": 2,
       "version_minor": 0,
       "model_id": "40c8f30df8dc488e8e7100834775c4ff"
      }
     },
     "metadata": {},
     "output_type": "display_data"
    },
    {
     "name": "stdout",
     "output_type": "stream",
     "text": [
      "[50, 32, 23, 51]\n",
      "--- EPOCH 77/1000 ---\n"
     ]
    },
    {
     "data": {
      "text/plain": "train_batch:   0%|          | 0/305 [00:00<?, ?it/s]",
      "application/vnd.jupyter.widget-view+json": {
       "version_major": 2,
       "version_minor": 0,
       "model_id": "f18f5e9ea11748c29df38d4afdd5a4ac"
      }
     },
     "metadata": {},
     "output_type": "display_data"
    },
    {
     "data": {
      "text/plain": "test_batch:   0%|          | 0/34 [00:00<?, ?it/s]",
      "application/vnd.jupyter.widget-view+json": {
       "version_major": 2,
       "version_minor": 0,
       "model_id": "507eb09f18c641549894db6728f94142"
      }
     },
     "metadata": {},
     "output_type": "display_data"
    },
    {
     "name": "stdout",
     "output_type": "stream",
     "text": [
      "Epoch    77: reducing learning rate of group 0 to 2.0276e-03.\n",
      "[50, 26, 9, 51]\n",
      "--- EPOCH 78/1000 ---\n"
     ]
    },
    {
     "data": {
      "text/plain": "train_batch:   0%|          | 0/305 [00:00<?, ?it/s]",
      "application/vnd.jupyter.widget-view+json": {
       "version_major": 2,
       "version_minor": 0,
       "model_id": "5541755e121a40308d0d14be9b8834b2"
      }
     },
     "metadata": {},
     "output_type": "display_data"
    },
    {
     "data": {
      "text/plain": "test_batch:   0%|          | 0/34 [00:00<?, ?it/s]",
      "application/vnd.jupyter.widget-view+json": {
       "version_major": 2,
       "version_minor": 0,
       "model_id": "35dd12fc186d44d4b164cd2ab3802b99"
      }
     },
     "metadata": {},
     "output_type": "display_data"
    },
    {
     "name": "stdout",
     "output_type": "stream",
     "text": [
      "[50, 5, 6, 51]\n",
      "--- EPOCH 79/1000 ---\n"
     ]
    },
    {
     "data": {
      "text/plain": "train_batch:   0%|          | 0/305 [00:00<?, ?it/s]",
      "application/vnd.jupyter.widget-view+json": {
       "version_major": 2,
       "version_minor": 0,
       "model_id": "4c5b7c8f1949491dba84ca078fc7f2c7"
      }
     },
     "metadata": {},
     "output_type": "display_data"
    },
    {
     "data": {
      "text/plain": "test_batch:   0%|          | 0/34 [00:00<?, ?it/s]",
      "application/vnd.jupyter.widget-view+json": {
       "version_major": 2,
       "version_minor": 0,
       "model_id": "9fcc51a01d3a469fb4bdd162d4e70107"
      }
     },
     "metadata": {},
     "output_type": "display_data"
    },
    {
     "name": "stdout",
     "output_type": "stream",
     "text": [
      "Epoch    79: reducing learning rate of group 0 to 1.8248e-03.\n",
      "[50, 18, 23, 51]\n",
      "--- EPOCH 80/1000 ---\n"
     ]
    },
    {
     "data": {
      "text/plain": "train_batch:   0%|          | 0/305 [00:00<?, ?it/s]",
      "application/vnd.jupyter.widget-view+json": {
       "version_major": 2,
       "version_minor": 0,
       "model_id": "e684114eaf734e91a826322b0bd3f3d3"
      }
     },
     "metadata": {},
     "output_type": "display_data"
    },
    {
     "data": {
      "text/plain": "test_batch:   0%|          | 0/34 [00:00<?, ?it/s]",
      "application/vnd.jupyter.widget-view+json": {
       "version_major": 2,
       "version_minor": 0,
       "model_id": "6c72fe880d3e42529bf86c1ed0d3377e"
      }
     },
     "metadata": {},
     "output_type": "display_data"
    },
    {
     "name": "stdout",
     "output_type": "stream",
     "text": [
      "[50, 9, 18, 51]\n",
      "--- EPOCH 81/1000 ---\n"
     ]
    },
    {
     "data": {
      "text/plain": "train_batch:   0%|          | 0/305 [00:00<?, ?it/s]",
      "application/vnd.jupyter.widget-view+json": {
       "version_major": 2,
       "version_minor": 0,
       "model_id": "b984c2562dbf4bab9bac6a28f726ca71"
      }
     },
     "metadata": {},
     "output_type": "display_data"
    },
    {
     "data": {
      "text/plain": "test_batch:   0%|          | 0/34 [00:00<?, ?it/s]",
      "application/vnd.jupyter.widget-view+json": {
       "version_major": 2,
       "version_minor": 0,
       "model_id": "0cf5114ea95f437e9e143fd2a73ed8b5"
      }
     },
     "metadata": {},
     "output_type": "display_data"
    },
    {
     "name": "stdout",
     "output_type": "stream",
     "text": [
      "Epoch    81: reducing learning rate of group 0 to 1.6423e-03.\n",
      "[50, 40, 18, 51]\n",
      "--- EPOCH 82/1000 ---\n"
     ]
    },
    {
     "data": {
      "text/plain": "train_batch:   0%|          | 0/305 [00:00<?, ?it/s]",
      "application/vnd.jupyter.widget-view+json": {
       "version_major": 2,
       "version_minor": 0,
       "model_id": "92f9ced5540b44e881bfd90d20a83b73"
      }
     },
     "metadata": {},
     "output_type": "display_data"
    },
    {
     "data": {
      "text/plain": "test_batch:   0%|          | 0/34 [00:00<?, ?it/s]",
      "application/vnd.jupyter.widget-view+json": {
       "version_major": 2,
       "version_minor": 0,
       "model_id": "7b5c244e02cf4b59bba9638cdc6cc22b"
      }
     },
     "metadata": {},
     "output_type": "display_data"
    },
    {
     "name": "stdout",
     "output_type": "stream",
     "text": [
      "[50, 8, 18, 51]\n",
      "--- EPOCH 83/1000 ---\n"
     ]
    },
    {
     "data": {
      "text/plain": "train_batch:   0%|          | 0/305 [00:00<?, ?it/s]",
      "application/vnd.jupyter.widget-view+json": {
       "version_major": 2,
       "version_minor": 0,
       "model_id": "593cd86746fb488b8a53a954133671eb"
      }
     },
     "metadata": {},
     "output_type": "display_data"
    },
    {
     "data": {
      "text/plain": "test_batch:   0%|          | 0/34 [00:00<?, ?it/s]",
      "application/vnd.jupyter.widget-view+json": {
       "version_major": 2,
       "version_minor": 0,
       "model_id": "0bcdebb0eaca47e58ad48d5aa323f06d"
      }
     },
     "metadata": {},
     "output_type": "display_data"
    },
    {
     "name": "stdout",
     "output_type": "stream",
     "text": [
      "Epoch    83: reducing learning rate of group 0 to 1.4781e-03.\n",
      "[50, 5, 5, 51]\n",
      "--- EPOCH 84/1000 ---\n"
     ]
    },
    {
     "data": {
      "text/plain": "train_batch:   0%|          | 0/305 [00:00<?, ?it/s]",
      "application/vnd.jupyter.widget-view+json": {
       "version_major": 2,
       "version_minor": 0,
       "model_id": "84a724fad3f348968074d1524ae0c4bf"
      }
     },
     "metadata": {},
     "output_type": "display_data"
    },
    {
     "data": {
      "text/plain": "test_batch:   0%|          | 0/34 [00:00<?, ?it/s]",
      "application/vnd.jupyter.widget-view+json": {
       "version_major": 2,
       "version_minor": 0,
       "model_id": "efa584e61f7a4f04aaccc4a0b79feba8"
      }
     },
     "metadata": {},
     "output_type": "display_data"
    },
    {
     "name": "stdout",
     "output_type": "stream",
     "text": [
      "[50, 8, 6, 51]\n",
      "--- EPOCH 85/1000 ---\n"
     ]
    },
    {
     "data": {
      "text/plain": "train_batch:   0%|          | 0/305 [00:00<?, ?it/s]",
      "application/vnd.jupyter.widget-view+json": {
       "version_major": 2,
       "version_minor": 0,
       "model_id": "9e4bee3647f74c81acb912d206f1bb25"
      }
     },
     "metadata": {},
     "output_type": "display_data"
    },
    {
     "data": {
      "text/plain": "test_batch:   0%|          | 0/34 [00:00<?, ?it/s]",
      "application/vnd.jupyter.widget-view+json": {
       "version_major": 2,
       "version_minor": 0,
       "model_id": "5abc60231e5c46e1b586e3931f9bccc4"
      }
     },
     "metadata": {},
     "output_type": "display_data"
    },
    {
     "name": "stdout",
     "output_type": "stream",
     "text": [
      "Epoch    85: reducing learning rate of group 0 to 1.3303e-03.\n",
      "[50, 4, 32, 51]\n",
      "--- EPOCH 86/1000 ---\n"
     ]
    },
    {
     "data": {
      "text/plain": "train_batch:   0%|          | 0/305 [00:00<?, ?it/s]",
      "application/vnd.jupyter.widget-view+json": {
       "version_major": 2,
       "version_minor": 0,
       "model_id": "71e1b24a34c64cb3ba3fc324274251d7"
      }
     },
     "metadata": {},
     "output_type": "display_data"
    },
    {
     "data": {
      "text/plain": "test_batch:   0%|          | 0/34 [00:00<?, ?it/s]",
      "application/vnd.jupyter.widget-view+json": {
       "version_major": 2,
       "version_minor": 0,
       "model_id": "f61c45fa2225436e82b956393b3e8ab6"
      }
     },
     "metadata": {},
     "output_type": "display_data"
    },
    {
     "name": "stdout",
     "output_type": "stream",
     "text": [
      "[50, 9, 6, 51]\n",
      "--- EPOCH 87/1000 ---\n"
     ]
    },
    {
     "data": {
      "text/plain": "train_batch:   0%|          | 0/305 [00:00<?, ?it/s]",
      "application/vnd.jupyter.widget-view+json": {
       "version_major": 2,
       "version_minor": 0,
       "model_id": "77e75cbbdd9843ecaba935718bc76f09"
      }
     },
     "metadata": {},
     "output_type": "display_data"
    },
    {
     "data": {
      "text/plain": "test_batch:   0%|          | 0/34 [00:00<?, ?it/s]",
      "application/vnd.jupyter.widget-view+json": {
       "version_major": 2,
       "version_minor": 0,
       "model_id": "74e954f9f1fe405f9e35cd4944cb7278"
      }
     },
     "metadata": {},
     "output_type": "display_data"
    },
    {
     "name": "stdout",
     "output_type": "stream",
     "text": [
      "Epoch    87: reducing learning rate of group 0 to 1.1973e-03.\n",
      "[50, 8, 5, 51]\n",
      "--- EPOCH 88/1000 ---\n"
     ]
    },
    {
     "data": {
      "text/plain": "train_batch:   0%|          | 0/305 [00:00<?, ?it/s]",
      "application/vnd.jupyter.widget-view+json": {
       "version_major": 2,
       "version_minor": 0,
       "model_id": "6b8f4b4b574a489fad01048143aa8aae"
      }
     },
     "metadata": {},
     "output_type": "display_data"
    },
    {
     "data": {
      "text/plain": "test_batch:   0%|          | 0/34 [00:00<?, ?it/s]",
      "application/vnd.jupyter.widget-view+json": {
       "version_major": 2,
       "version_minor": 0,
       "model_id": "6591b5c600ba4e8daf1f19396f326de5"
      }
     },
     "metadata": {},
     "output_type": "display_data"
    },
    {
     "name": "stdout",
     "output_type": "stream",
     "text": [
      "[50, 6, 6, 51]\n",
      "--- EPOCH 89/1000 ---\n"
     ]
    },
    {
     "data": {
      "text/plain": "train_batch:   0%|          | 0/305 [00:00<?, ?it/s]",
      "application/vnd.jupyter.widget-view+json": {
       "version_major": 2,
       "version_minor": 0,
       "model_id": "15c4e8d34b834d32a5832482156de26a"
      }
     },
     "metadata": {},
     "output_type": "display_data"
    },
    {
     "data": {
      "text/plain": "test_batch:   0%|          | 0/34 [00:00<?, ?it/s]",
      "application/vnd.jupyter.widget-view+json": {
       "version_major": 2,
       "version_minor": 0,
       "model_id": "8bd42474efc54d018c6d076455bb203a"
      }
     },
     "metadata": {},
     "output_type": "display_data"
    },
    {
     "name": "stdout",
     "output_type": "stream",
     "text": [
      "Epoch    89: reducing learning rate of group 0 to 1.0775e-03.\n",
      "[50, 9, 26, 51]\n",
      "--- EPOCH 90/1000 ---\n"
     ]
    },
    {
     "data": {
      "text/plain": "train_batch:   0%|          | 0/305 [00:00<?, ?it/s]",
      "application/vnd.jupyter.widget-view+json": {
       "version_major": 2,
       "version_minor": 0,
       "model_id": "2f977ab6bf3340439b7854f8982a32ad"
      }
     },
     "metadata": {},
     "output_type": "display_data"
    },
    {
     "data": {
      "text/plain": "test_batch:   0%|          | 0/34 [00:00<?, ?it/s]",
      "application/vnd.jupyter.widget-view+json": {
       "version_major": 2,
       "version_minor": 0,
       "model_id": "c68486ee25b14bd3b75bb238ba5defef"
      }
     },
     "metadata": {},
     "output_type": "display_data"
    },
    {
     "name": "stdout",
     "output_type": "stream",
     "text": [
      "[50, 9, 23, 51]\n",
      "--- EPOCH 91/1000 ---\n"
     ]
    },
    {
     "data": {
      "text/plain": "train_batch:   0%|          | 0/305 [00:00<?, ?it/s]",
      "application/vnd.jupyter.widget-view+json": {
       "version_major": 2,
       "version_minor": 0,
       "model_id": "0993967ccc2041d3bf8aee9cc13cfbb1"
      }
     },
     "metadata": {},
     "output_type": "display_data"
    },
    {
     "data": {
      "text/plain": "test_batch:   0%|          | 0/34 [00:00<?, ?it/s]",
      "application/vnd.jupyter.widget-view+json": {
       "version_major": 2,
       "version_minor": 0,
       "model_id": "02e437d6196641358b2bef77c164bd5e"
      }
     },
     "metadata": {},
     "output_type": "display_data"
    },
    {
     "name": "stdout",
     "output_type": "stream",
     "text": [
      "Epoch    91: reducing learning rate of group 0 to 9.6977e-04.\n",
      "[50, 40, 18, 51]\n",
      "--- EPOCH 92/1000 ---\n"
     ]
    },
    {
     "data": {
      "text/plain": "train_batch:   0%|          | 0/305 [00:00<?, ?it/s]",
      "application/vnd.jupyter.widget-view+json": {
       "version_major": 2,
       "version_minor": 0,
       "model_id": "4826fa3b47a54cb4b4cdafad6ce20972"
      }
     },
     "metadata": {},
     "output_type": "display_data"
    },
    {
     "data": {
      "text/plain": "test_batch:   0%|          | 0/34 [00:00<?, ?it/s]",
      "application/vnd.jupyter.widget-view+json": {
       "version_major": 2,
       "version_minor": 0,
       "model_id": "c40c601575c8412b992f8997194b3983"
      }
     },
     "metadata": {},
     "output_type": "display_data"
    },
    {
     "name": "stdout",
     "output_type": "stream",
     "text": [
      "[50, 4, 44, 51]\n",
      "--- EPOCH 93/1000 ---\n"
     ]
    },
    {
     "data": {
      "text/plain": "train_batch:   0%|          | 0/305 [00:00<?, ?it/s]",
      "application/vnd.jupyter.widget-view+json": {
       "version_major": 2,
       "version_minor": 0,
       "model_id": "6160ac0abc824191a057813d61c86c8f"
      }
     },
     "metadata": {},
     "output_type": "display_data"
    },
    {
     "data": {
      "text/plain": "test_batch:   0%|          | 0/34 [00:00<?, ?it/s]",
      "application/vnd.jupyter.widget-view+json": {
       "version_major": 2,
       "version_minor": 0,
       "model_id": "b5056d5161a147e9a7de8f5e0efca470"
      }
     },
     "metadata": {},
     "output_type": "display_data"
    },
    {
     "name": "stdout",
     "output_type": "stream",
     "text": [
      "Epoch    93: reducing learning rate of group 0 to 8.7280e-04.\n",
      "[50, 5, 6, 51]\n",
      "--- EPOCH 94/1000 ---\n"
     ]
    },
    {
     "data": {
      "text/plain": "train_batch:   0%|          | 0/305 [00:00<?, ?it/s]",
      "application/vnd.jupyter.widget-view+json": {
       "version_major": 2,
       "version_minor": 0,
       "model_id": "15108a2a8c2c4943b8728a1afcfb47f3"
      }
     },
     "metadata": {},
     "output_type": "display_data"
    },
    {
     "data": {
      "text/plain": "test_batch:   0%|          | 0/34 [00:00<?, ?it/s]",
      "application/vnd.jupyter.widget-view+json": {
       "version_major": 2,
       "version_minor": 0,
       "model_id": "8dbca5d111f74003b3961dc8d62e6a55"
      }
     },
     "metadata": {},
     "output_type": "display_data"
    },
    {
     "name": "stdout",
     "output_type": "stream",
     "text": [
      "[50, 35, 26, 51]\n",
      "--- EPOCH 95/1000 ---\n"
     ]
    },
    {
     "data": {
      "text/plain": "train_batch:   0%|          | 0/305 [00:00<?, ?it/s]",
      "application/vnd.jupyter.widget-view+json": {
       "version_major": 2,
       "version_minor": 0,
       "model_id": "07d25d6cabdb4922801575d85f6dfa6c"
      }
     },
     "metadata": {},
     "output_type": "display_data"
    },
    {
     "data": {
      "text/plain": "test_batch:   0%|          | 0/34 [00:00<?, ?it/s]",
      "application/vnd.jupyter.widget-view+json": {
       "version_major": 2,
       "version_minor": 0,
       "model_id": "4b479c9fcfb04e92ae0680553437e980"
      }
     },
     "metadata": {},
     "output_type": "display_data"
    },
    {
     "name": "stdout",
     "output_type": "stream",
     "text": [
      "Epoch    95: reducing learning rate of group 0 to 7.8552e-04.\n",
      "[50, 4, 18, 51]\n",
      "--- EPOCH 96/1000 ---\n"
     ]
    },
    {
     "data": {
      "text/plain": "train_batch:   0%|          | 0/305 [00:00<?, ?it/s]",
      "application/vnd.jupyter.widget-view+json": {
       "version_major": 2,
       "version_minor": 0,
       "model_id": "150d619ba7094308b53339f97cf052b4"
      }
     },
     "metadata": {},
     "output_type": "display_data"
    },
    {
     "data": {
      "text/plain": "test_batch:   0%|          | 0/34 [00:00<?, ?it/s]",
      "application/vnd.jupyter.widget-view+json": {
       "version_major": 2,
       "version_minor": 0,
       "model_id": "324060ca3ff34628955c1da3a76272c2"
      }
     },
     "metadata": {},
     "output_type": "display_data"
    },
    {
     "name": "stdout",
     "output_type": "stream",
     "text": [
      "[50, 5, 10, 51]\n",
      "--- EPOCH 97/1000 ---\n"
     ]
    },
    {
     "data": {
      "text/plain": "train_batch:   0%|          | 0/305 [00:00<?, ?it/s]",
      "application/vnd.jupyter.widget-view+json": {
       "version_major": 2,
       "version_minor": 0,
       "model_id": "9c7b8e01ce3e4b67bb87fa19626979e4"
      }
     },
     "metadata": {},
     "output_type": "display_data"
    },
    {
     "data": {
      "text/plain": "test_batch:   0%|          | 0/34 [00:00<?, ?it/s]",
      "application/vnd.jupyter.widget-view+json": {
       "version_major": 2,
       "version_minor": 0,
       "model_id": "a685ff38be4549cc9f177963f7015285"
      }
     },
     "metadata": {},
     "output_type": "display_data"
    },
    {
     "name": "stdout",
     "output_type": "stream",
     "text": [
      "Epoch    97: reducing learning rate of group 0 to 7.0697e-04.\n",
      "[50, 8, 49, 4, 51]\n",
      "--- EPOCH 98/1000 ---\n"
     ]
    },
    {
     "data": {
      "text/plain": "train_batch:   0%|          | 0/305 [00:00<?, ?it/s]",
      "application/vnd.jupyter.widget-view+json": {
       "version_major": 2,
       "version_minor": 0,
       "model_id": "f7eba841d5ff48f2a11e6f699c0e281b"
      }
     },
     "metadata": {},
     "output_type": "display_data"
    },
    {
     "data": {
      "text/plain": "test_batch:   0%|          | 0/34 [00:00<?, ?it/s]",
      "application/vnd.jupyter.widget-view+json": {
       "version_major": 2,
       "version_minor": 0,
       "model_id": "8c1deb0e91be4c2ab28dc2df1a06d1d5"
      }
     },
     "metadata": {},
     "output_type": "display_data"
    },
    {
     "name": "stdout",
     "output_type": "stream",
     "text": [
      "[50, 5, 6, 51]\n",
      "--- EPOCH 99/1000 ---\n"
     ]
    },
    {
     "data": {
      "text/plain": "train_batch:   0%|          | 0/305 [00:00<?, ?it/s]",
      "application/vnd.jupyter.widget-view+json": {
       "version_major": 2,
       "version_minor": 0,
       "model_id": "3976adef81fb4c779553aa6a48afb1c9"
      }
     },
     "metadata": {},
     "output_type": "display_data"
    },
    {
     "data": {
      "text/plain": "test_batch:   0%|          | 0/34 [00:00<?, ?it/s]",
      "application/vnd.jupyter.widget-view+json": {
       "version_major": 2,
       "version_minor": 0,
       "model_id": "15986c2fbbbc417b981820a837f16fb6"
      }
     },
     "metadata": {},
     "output_type": "display_data"
    },
    {
     "name": "stdout",
     "output_type": "stream",
     "text": [
      "Epoch    99: reducing learning rate of group 0 to 6.3627e-04.\n",
      "[50, 4, 36, 51]\n",
      "--- EPOCH 100/1000 ---\n"
     ]
    },
    {
     "data": {
      "text/plain": "train_batch:   0%|          | 0/305 [00:00<?, ?it/s]",
      "application/vnd.jupyter.widget-view+json": {
       "version_major": 2,
       "version_minor": 0,
       "model_id": "0e915d64e9ba4b0486d2510764fb4b96"
      }
     },
     "metadata": {},
     "output_type": "display_data"
    },
    {
     "data": {
      "text/plain": "test_batch:   0%|          | 0/34 [00:00<?, ?it/s]",
      "application/vnd.jupyter.widget-view+json": {
       "version_major": 2,
       "version_minor": 0,
       "model_id": "1cfc933ec9af498fb21716e6e6a9e6f6"
      }
     },
     "metadata": {},
     "output_type": "display_data"
    },
    {
     "name": "stdout",
     "output_type": "stream",
     "text": [
      "\n",
      "*** Saved checkpoint checkpoints/rnn.pt\n",
      "[50, 9, 36, 51]\n",
      "--- EPOCH 101/1000 ---\n"
     ]
    },
    {
     "data": {
      "text/plain": "train_batch:   0%|          | 0/305 [00:00<?, ?it/s]",
      "application/vnd.jupyter.widget-view+json": {
       "version_major": 2,
       "version_minor": 0,
       "model_id": "74a206df82394fe0906d6abe7afcbcb8"
      }
     },
     "metadata": {},
     "output_type": "display_data"
    },
    {
     "data": {
      "text/plain": "test_batch:   0%|          | 0/34 [00:00<?, ?it/s]",
      "application/vnd.jupyter.widget-view+json": {
       "version_major": 2,
       "version_minor": 0,
       "model_id": "e251a05f7e09486fa7b224640370216c"
      }
     },
     "metadata": {},
     "output_type": "display_data"
    },
    {
     "name": "stdout",
     "output_type": "stream",
     "text": [
      "[50, 4, 15, 51]\n",
      "--- EPOCH 102/1000 ---\n"
     ]
    },
    {
     "data": {
      "text/plain": "train_batch:   0%|          | 0/305 [00:00<?, ?it/s]",
      "application/vnd.jupyter.widget-view+json": {
       "version_major": 2,
       "version_minor": 0,
       "model_id": "633ed6782de044b6906a20e67cf3b072"
      }
     },
     "metadata": {},
     "output_type": "display_data"
    },
    {
     "data": {
      "text/plain": "test_batch:   0%|          | 0/34 [00:00<?, ?it/s]",
      "application/vnd.jupyter.widget-view+json": {
       "version_major": 2,
       "version_minor": 0,
       "model_id": "7a95e0a779b44faa892af2d36fd4fcf5"
      }
     },
     "metadata": {},
     "output_type": "display_data"
    },
    {
     "name": "stdout",
     "output_type": "stream",
     "text": [
      "Epoch   102: reducing learning rate of group 0 to 5.7264e-04.\n",
      "[50, 4, 32, 51]\n",
      "--- EPOCH 103/1000 ---\n"
     ]
    },
    {
     "data": {
      "text/plain": "train_batch:   0%|          | 0/305 [00:00<?, ?it/s]",
      "application/vnd.jupyter.widget-view+json": {
       "version_major": 2,
       "version_minor": 0,
       "model_id": "b90a6ce5ea1b43b88fbc30b05c03528d"
      }
     },
     "metadata": {},
     "output_type": "display_data"
    },
    {
     "data": {
      "text/plain": "test_batch:   0%|          | 0/34 [00:00<?, ?it/s]",
      "application/vnd.jupyter.widget-view+json": {
       "version_major": 2,
       "version_minor": 0,
       "model_id": "e2890c7e0371424aa28970170b9dcc02"
      }
     },
     "metadata": {},
     "output_type": "display_data"
    },
    {
     "name": "stdout",
     "output_type": "stream",
     "text": [
      "[50, 40, 31, 51]\n",
      "--- EPOCH 104/1000 ---\n"
     ]
    },
    {
     "data": {
      "text/plain": "train_batch:   0%|          | 0/305 [00:00<?, ?it/s]",
      "application/vnd.jupyter.widget-view+json": {
       "version_major": 2,
       "version_minor": 0,
       "model_id": "e671b7a244154c2c83e919d068ef8c90"
      }
     },
     "metadata": {},
     "output_type": "display_data"
    },
    {
     "data": {
      "text/plain": "test_batch:   0%|          | 0/34 [00:00<?, ?it/s]",
      "application/vnd.jupyter.widget-view+json": {
       "version_major": 2,
       "version_minor": 0,
       "model_id": "02e09f0819d54b9280db551e7321d9ca"
      }
     },
     "metadata": {},
     "output_type": "display_data"
    },
    {
     "name": "stdout",
     "output_type": "stream",
     "text": [
      "Epoch   104: reducing learning rate of group 0 to 5.1538e-04.\n",
      "[50, 4, 43, 51]\n",
      "--- EPOCH 105/1000 ---\n"
     ]
    },
    {
     "data": {
      "text/plain": "train_batch:   0%|          | 0/305 [00:00<?, ?it/s]",
      "application/vnd.jupyter.widget-view+json": {
       "version_major": 2,
       "version_minor": 0,
       "model_id": "e111e764f9634525abc2161b48a4b503"
      }
     },
     "metadata": {},
     "output_type": "display_data"
    },
    {
     "data": {
      "text/plain": "test_batch:   0%|          | 0/34 [00:00<?, ?it/s]",
      "application/vnd.jupyter.widget-view+json": {
       "version_major": 2,
       "version_minor": 0,
       "model_id": "1985bb7203b04071b667cb0cad1d4ccb"
      }
     },
     "metadata": {},
     "output_type": "display_data"
    },
    {
     "name": "stdout",
     "output_type": "stream",
     "text": [
      "[50, 4, 14, 51]\n",
      "--- EPOCH 106/1000 ---\n"
     ]
    },
    {
     "data": {
      "text/plain": "train_batch:   0%|          | 0/305 [00:00<?, ?it/s]",
      "application/vnd.jupyter.widget-view+json": {
       "version_major": 2,
       "version_minor": 0,
       "model_id": "fe8d163af2894f8899504622333ebbb1"
      }
     },
     "metadata": {},
     "output_type": "display_data"
    },
    {
     "data": {
      "text/plain": "test_batch:   0%|          | 0/34 [00:00<?, ?it/s]",
      "application/vnd.jupyter.widget-view+json": {
       "version_major": 2,
       "version_minor": 0,
       "model_id": "b59c7eefba204809861a1fb472e27eb3"
      }
     },
     "metadata": {},
     "output_type": "display_data"
    },
    {
     "name": "stdout",
     "output_type": "stream",
     "text": [
      "Epoch   106: reducing learning rate of group 0 to 4.6384e-04.\n",
      "[50, 4, 18, 51]\n",
      "--- EPOCH 107/1000 ---\n"
     ]
    },
    {
     "data": {
      "text/plain": "train_batch:   0%|          | 0/305 [00:00<?, ?it/s]",
      "application/vnd.jupyter.widget-view+json": {
       "version_major": 2,
       "version_minor": 0,
       "model_id": "3fdd11bb44204135b8aa57119aa3e68e"
      }
     },
     "metadata": {},
     "output_type": "display_data"
    },
    {
     "data": {
      "text/plain": "test_batch:   0%|          | 0/34 [00:00<?, ?it/s]",
      "application/vnd.jupyter.widget-view+json": {
       "version_major": 2,
       "version_minor": 0,
       "model_id": "97b78af5f4e948989b9ee28ea6f6daaf"
      }
     },
     "metadata": {},
     "output_type": "display_data"
    },
    {
     "name": "stdout",
     "output_type": "stream",
     "text": [
      "[50, 4, 43, 23, 51]\n",
      "--- EPOCH 108/1000 ---\n"
     ]
    },
    {
     "data": {
      "text/plain": "train_batch:   0%|          | 0/305 [00:00<?, ?it/s]",
      "application/vnd.jupyter.widget-view+json": {
       "version_major": 2,
       "version_minor": 0,
       "model_id": "b4098eeef97e46a7beeb2fb64427c52e"
      }
     },
     "metadata": {},
     "output_type": "display_data"
    },
    {
     "data": {
      "text/plain": "test_batch:   0%|          | 0/34 [00:00<?, ?it/s]",
      "application/vnd.jupyter.widget-view+json": {
       "version_major": 2,
       "version_minor": 0,
       "model_id": "431fe1811d9348928a6f56d775f1fe8b"
      }
     },
     "metadata": {},
     "output_type": "display_data"
    },
    {
     "name": "stdout",
     "output_type": "stream",
     "text": [
      "Epoch   108: reducing learning rate of group 0 to 4.1746e-04.\n",
      "[50, 4, 4, 51]\n",
      "--- EPOCH 109/1000 ---\n"
     ]
    },
    {
     "data": {
      "text/plain": "train_batch:   0%|          | 0/305 [00:00<?, ?it/s]",
      "application/vnd.jupyter.widget-view+json": {
       "version_major": 2,
       "version_minor": 0,
       "model_id": "43972e3bc912401ba690608283d1c059"
      }
     },
     "metadata": {},
     "output_type": "display_data"
    },
    {
     "data": {
      "text/plain": "test_batch:   0%|          | 0/34 [00:00<?, ?it/s]",
      "application/vnd.jupyter.widget-view+json": {
       "version_major": 2,
       "version_minor": 0,
       "model_id": "22143503ee4e4ce887810a78644833d0"
      }
     },
     "metadata": {},
     "output_type": "display_data"
    },
    {
     "name": "stdout",
     "output_type": "stream",
     "text": [
      "[50, 9, 3, 51]\n",
      "--- EPOCH 110/1000 ---\n"
     ]
    },
    {
     "data": {
      "text/plain": "train_batch:   0%|          | 0/305 [00:00<?, ?it/s]",
      "application/vnd.jupyter.widget-view+json": {
       "version_major": 2,
       "version_minor": 0,
       "model_id": "5f577c8b62f74cbaac47d903133a7c39"
      }
     },
     "metadata": {},
     "output_type": "display_data"
    },
    {
     "data": {
      "text/plain": "test_batch:   0%|          | 0/34 [00:00<?, ?it/s]",
      "application/vnd.jupyter.widget-view+json": {
       "version_major": 2,
       "version_minor": 0,
       "model_id": "e5962934dd364704b890257e63502861"
      }
     },
     "metadata": {},
     "output_type": "display_data"
    },
    {
     "name": "stdout",
     "output_type": "stream",
     "text": [
      "Epoch   110: reducing learning rate of group 0 to 3.7571e-04.\n",
      "[50, 4, 4, 51]\n",
      "--- EPOCH 111/1000 ---\n"
     ]
    },
    {
     "data": {
      "text/plain": "train_batch:   0%|          | 0/305 [00:00<?, ?it/s]",
      "application/vnd.jupyter.widget-view+json": {
       "version_major": 2,
       "version_minor": 0,
       "model_id": "7b53bb5817c44d04bc85170a487d8efd"
      }
     },
     "metadata": {},
     "output_type": "display_data"
    },
    {
     "data": {
      "text/plain": "test_batch:   0%|          | 0/34 [00:00<?, ?it/s]",
      "application/vnd.jupyter.widget-view+json": {
       "version_major": 2,
       "version_minor": 0,
       "model_id": "59164fa9613c4a118010d86d812f8ce9"
      }
     },
     "metadata": {},
     "output_type": "display_data"
    },
    {
     "name": "stdout",
     "output_type": "stream",
     "text": [
      "[50, 4, 15, 51]\n",
      "--- EPOCH 112/1000 ---\n"
     ]
    },
    {
     "data": {
      "text/plain": "train_batch:   0%|          | 0/305 [00:00<?, ?it/s]",
      "application/vnd.jupyter.widget-view+json": {
       "version_major": 2,
       "version_minor": 0,
       "model_id": "f117c4a4edd9493a8bd51a2fdcd98091"
      }
     },
     "metadata": {},
     "output_type": "display_data"
    },
    {
     "data": {
      "text/plain": "test_batch:   0%|          | 0/34 [00:00<?, ?it/s]",
      "application/vnd.jupyter.widget-view+json": {
       "version_major": 2,
       "version_minor": 0,
       "model_id": "668b888c15ec401eb46639080bb78e23"
      }
     },
     "metadata": {},
     "output_type": "display_data"
    },
    {
     "name": "stdout",
     "output_type": "stream",
     "text": [
      "Epoch   112: reducing learning rate of group 0 to 3.3814e-04.\n",
      "[50, 32, 32, 51]\n",
      "--- EPOCH 113/1000 ---\n"
     ]
    },
    {
     "data": {
      "text/plain": "train_batch:   0%|          | 0/305 [00:00<?, ?it/s]",
      "application/vnd.jupyter.widget-view+json": {
       "version_major": 2,
       "version_minor": 0,
       "model_id": "d25e719fc9c446ffaed8b9d99a5e9203"
      }
     },
     "metadata": {},
     "output_type": "display_data"
    },
    {
     "data": {
      "text/plain": "test_batch:   0%|          | 0/34 [00:00<?, ?it/s]",
      "application/vnd.jupyter.widget-view+json": {
       "version_major": 2,
       "version_minor": 0,
       "model_id": "e307ecc691424f8ebef042b45d0ae23f"
      }
     },
     "metadata": {},
     "output_type": "display_data"
    },
    {
     "name": "stdout",
     "output_type": "stream",
     "text": [
      "[50, 0, 4, 51]\n",
      "--- EPOCH 114/1000 ---\n"
     ]
    },
    {
     "data": {
      "text/plain": "train_batch:   0%|          | 0/305 [00:00<?, ?it/s]",
      "application/vnd.jupyter.widget-view+json": {
       "version_major": 2,
       "version_minor": 0,
       "model_id": "3b373cbc3228407fa51c341fca549b78"
      }
     },
     "metadata": {},
     "output_type": "display_data"
    },
    {
     "name": "stdout",
     "output_type": "stream",
     "text": [
      "\n",
      " *** Training interrupted by user\n"
     ]
    }
   ],
   "source": [
    "def post_epoch_fn(epoch, train_res, test_res, verbose):\n",
    "    # Update learning rate\n",
    "    scheduler.step(test_res.accuracy)\n",
    "    # Sample from model to show progress\n",
    "    if verbose:\n",
    "        generated_sequence = generate_from_model(\n",
    "            model, chorale_sentences, T=0.5\n",
    "        )\n",
    "        print(generated_sequence)\n",
    "\n",
    "# Train, unless final checkpoint is found\n",
    "checkpoint_file_final = f'{checkpoint_file}_final.pt'\n",
    "if os.path.isfile(checkpoint_file_final):\n",
    "    print(f'*** Loading final checkpoint file {checkpoint_file_final} instead of training')\n",
    "    saved_state = torch.load(checkpoint_file_final, map_location=device)\n",
    "    model.load_state_dict(saved_state['model_state'])\n",
    "else:\n",
    "    try:\n",
    "        # Print pre-training sampling\n",
    "        print(generate_from_model(model, chorale_sentences, T=0.5))\n",
    "\n",
    "        fit_res = trainer.fit(dl_train, dl_test, num_epochs, max_batches=None,\n",
    "                              post_epoch_fn=post_epoch_fn, early_stopping=early_stopping,\n",
    "                              checkpoints=checkpoint_file, print_every=1)\n",
    "\n",
    "    except KeyboardInterrupt as e:\n",
    "        print('\\n *** Training interrupted by user')"
   ],
   "metadata": {
    "collapsed": false,
    "pycharm": {
     "name": "#%%\n"
    }
   }
  },
  {
   "cell_type": "code",
   "execution_count": 10,
   "outputs": [
    {
     "name": "stdout",
     "output_type": "stream",
     "text": [
      "Printing features for phrase [5, 4, 7, 32, 15, 0, 4, 4, 1, 51]\n",
      "5\topening_downbeat_harmony: 5\n",
      "\tfermata_harmony: 4\n",
      "4\topening_downbeat_harmony: 0\n",
      "\tfermata_harmony: 0\n",
      "7\topening_downbeat_harmony: 1\n",
      "\tfermata_harmony: 1\n",
      "32\topening_downbeat_harmony: 0\n",
      "\tfermata_harmony: 2\n",
      "15\topening_downbeat_harmony: 2\n",
      "\tfermata_harmony: 0\n",
      "0\topening_downbeat_harmony: 0\n",
      "\tfermata_harmony: 4\n",
      "4\topening_downbeat_harmony: 0\n",
      "\tfermata_harmony: 0\n",
      "4\topening_downbeat_harmony: 0\n",
      "\tfermata_harmony: 0\n",
      "1\topening_downbeat_harmony: 4\n",
      "\tfermata_harmony: 0\n"
     ]
    }
   ],
   "source": [
    "from chorale_rnn import generate_from_model\n",
    "\n",
    "chorale_sentences.print_chorale_sentence_features(generate_from_model(model, chorale_sentences, T=0.8, pick_first_phrase=True))"
   ],
   "metadata": {
    "collapsed": false,
    "pycharm": {
     "name": "#%%\n"
    }
   }
  }
 ],
 "metadata": {
  "kernelspec": {
   "display_name": "Python 3",
   "language": "python",
   "name": "python3"
  },
  "language_info": {
   "codemirror_mode": {
    "name": "ipython",
    "version": 2
   },
   "file_extension": ".py",
   "mimetype": "text/x-python",
   "name": "python",
   "nbconvert_exporter": "python",
   "pygments_lexer": "ipython2",
   "version": "2.7.6"
  }
 },
 "nbformat": 4,
 "nbformat_minor": 0
}