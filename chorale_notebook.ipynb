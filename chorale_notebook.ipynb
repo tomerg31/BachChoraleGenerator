{
 "cells": [
  {
   "cell_type": "markdown",
   "source": [
    "# Bach Chorale Generator"
   ],
   "metadata": {
    "collapsed": false,
    "pycharm": {
     "name": "#%% md\n"
    }
   }
  },
  {
   "cell_type": "code",
   "execution_count": 1,
   "outputs": [],
   "source": [
    "import os\n",
    "import sys\n",
    "import pathlib\n",
    "import urllib\n",
    "import shutil\n",
    "import re\n",
    "import zipfile\n",
    "\n",
    "import numpy as np\n",
    "import torch\n",
    "import music21"
   ],
   "metadata": {
    "collapsed": false,
    "pycharm": {
     "name": "#%%\n"
    }
   }
  },
  {
   "cell_type": "markdown",
   "source": [
    "Create dataset of Chorale phrase tensors. Each item in the dataset is a vector\n",
    "comprised of several concatenated one-hot vectors, where each one defines a\n",
    "feature in the phrase"
   ],
   "metadata": {
    "collapsed": false,
    "pycharm": {
     "name": "#%% md\n"
    }
   }
  },
  {
   "cell_type": "code",
   "source": [
    "from chorale_phrase_tensor import PhraseTensor\n",
    "from chorale_feature_extractor import ExtractedChorale, ExtractedPhrase, ExtractedChoralesContainer\n",
    "import pickle"
   ],
   "metadata": {
    "collapsed": false,
    "pycharm": {
     "name": "#%%\n"
    }
   },
   "execution_count": 2,
   "outputs": []
  },
  {
   "cell_type": "code",
   "execution_count": 3,
   "outputs": [],
   "source": [
    "# Change to False if already have those files\n",
    "\n",
    "CREATE_EXTRACTED_CHORALE_DATASET = False\n",
    "CREATE_PHRASE_TENSOR_DATASET = True"
   ],
   "metadata": {
    "collapsed": false,
    "pycharm": {
     "name": "#%%\n"
    }
   }
  },
  {
   "cell_type": "code",
   "execution_count": 4,
   "outputs": [],
   "source": [
    "if CREATE_EXTRACTED_CHORALE_DATASET:\n",
    "\n",
    "    # Get an instance of the Chorale iterator, to iterate over all chorales in corpus\n",
    "    chorales_iterator = music21.corpus.chorales.Iterator()\n",
    "\n",
    "    # Make a ChoraleVector object for each of the chorales\n",
    "    extracted_chorale_container = ExtractedChoralesContainer(chorales_iterator)\n",
    "\n",
    "    # Save all extracted chorales to file for quicker handling\n",
    "    pickle_file = open('extracted_chorale_container.pkl', 'wb')\n",
    "    pickle.dump(extracted_chorale_container, pickle_file)\n",
    "    pickle_file.close()\n",
    "\n",
    "else:\n",
    "    pickle_file = open('extracted_chorale_container.pkl', 'rb')\n",
    "    extracted_chorale_container = pickle.load(pickle_file)\n",
    "    pickle_file.close()"
   ],
   "metadata": {
    "collapsed": false,
    "pycharm": {
     "name": "#%%\n"
    }
   }
  },
  {
   "cell_type": "code",
   "execution_count": 5,
   "outputs": [
    {
     "name": "stdout",
     "output_type": "stream",
     "text": [
      "Phrase is longer than maximum allotted. Chorale bwv41.6.mxl phrase index 0\n",
      "Phrase is longer than maximum allotted. Chorale bwv41.6.mxl phrase index 1\n",
      "Phrase is longer than maximum allotted. Chorale bwv8.6.mxl phrase index 0\n",
      "Phrase is longer than maximum allotted. Chorale bwv121.6.mxl phrase index 3\n",
      "Phrase is longer than maximum allotted. Chorale bwv29.8.mxl phrase index 2\n",
      "Phrase is longer than maximum allotted. Chorale bwv27.6.mxl phrase index 4\n",
      "Phrase is longer than maximum allotted. Chorale bwv27.6.mxl phrase index 5\n",
      "Phrase is longer than maximum allotted. Chorale bwv123.6.mxl phrase index 2\n",
      "Phrase is longer than maximum allotted. Chorale bwv123.6.mxl phrase index 5\n",
      "Phrase is longer than maximum allotted. Chorale bwv407.mxl phrase index 9\n",
      "Phrase is longer than maximum allotted. Chorale bwv320.mxl phrase index 2\n",
      "Phrase is longer than maximum allotted. Chorale bwv320.mxl phrase index 3\n",
      "Phrase is longer than maximum allotted. Chorale bwv320.mxl phrase index 4\n",
      "Phrase is longer than maximum allotted. Chorale bwv320.mxl phrase index 5\n",
      "Phrase is longer than maximum allotted. Chorale bwv362.mxl phrase index 7\n",
      "Phrase is longer than maximum allotted. Chorale bwv161.6.mxl phrase index 0\n",
      "Phrase is longer than maximum allotted. Chorale bwv304.mxl phrase index 4\n",
      "Phrase is longer than maximum allotted. Chorale bwv304.mxl phrase index 5\n",
      "Phrase is longer than maximum allotted. Chorale bwv323.mxl phrase index 1\n",
      "Phrase is longer than maximum allotted. Chorale bwv172.6.mxl phrase index 2\n",
      "Phrase is longer than maximum allotted. Chorale bwv10.7.mxl phrase index 3\n",
      "Phrase is longer than maximum allotted. Chorale bwv248.42-4.mxl phrase index 0\n"
     ]
    }
   ],
   "source": [
    "if CREATE_PHRASE_TENSOR_DATASET:\n",
    "    # Create a tensor dataset from all phrase tensors extracted from chorales\n",
    "    phrase_tensors = []\n",
    "    for chorale_name in extracted_chorale_container.chorale_dict.keys():\n",
    "        for phrase in extracted_chorale_container.chorale_dict[chorale_name].phrase_vector:\n",
    "            new_phrase_tensor_object = PhraseTensor(phrase)\n",
    "            if not new_phrase_tensor_object.valid:\n",
    "                continue\n",
    "            phrase_tensors.append(new_phrase_tensor_object().unsqueeze(0))\n",
    "\n",
    "    phrase_tensor_dataset = torch.utils.data.TensorDataset(torch.concat([*phrase_tensors], dim=0))\n",
    "\n",
    "    torch.save(phrase_tensor_dataset, 'phrase_tensor_dataset.pt')\n",
    "\n",
    "else:\n",
    "    phrase_tensor_dataset = torch.load('phrase_tensor_dataset.pt')"
   ],
   "metadata": {
    "collapsed": false,
    "pycharm": {
     "name": "#%%\n"
    }
   }
  },
  {
   "cell_type": "code",
   "execution_count": 6,
   "outputs": [
    {
     "name": "stdout",
     "output_type": "stream",
     "text": [
      "Using device: cpu\n",
      "VAE(\n",
      "  (features_encoder): PhraseEncoder(\n",
      "    (encoder): Sequential(\n",
      "      (0): Linear(in_features=28, out_features=21, bias=True)\n",
      "      (1): ReLU()\n",
      "      (2): Linear(in_features=21, out_features=18, bias=True)\n",
      "      (3): ReLU()\n",
      "      (4): Linear(in_features=18, out_features=15, bias=True)\n",
      "    )\n",
      "  )\n",
      "  (features_decoder): PhraseDecoderWithSoftmax(\n",
      "    (decoder): PhraseDecoder(\n",
      "      (decoder): Sequential(\n",
      "        (0): Linear(in_features=15, out_features=18, bias=True)\n",
      "        (1): ReLU()\n",
      "        (2): Linear(in_features=18, out_features=21, bias=True)\n",
      "        (3): ReLU()\n",
      "        (4): Linear(in_features=21, out_features=28, bias=True)\n",
      "      )\n",
      "    )\n",
      "    (softmax): Softmax(dim=1)\n",
      "  )\n",
      "  (encoder_mean): Linear(in_features=15, out_features=15, bias=True)\n",
      "  (log_sigma2): Linear(in_features=15, out_features=15, bias=True)\n",
      ")\n",
      "{'batch_size': 10, 'z_dim': 15, 'x_sigma2': 0.0001, 'learn_rate': 0.0001, 'betas': (0.5, 0.999)}\n"
     ]
    }
   ],
   "source": [
    "# Now we train the generator to produce such phrases\n",
    "\n",
    "# First, set hyperparameters for learning the phrase encodings:\n",
    "hp = dict(\n",
    "    batch_size=10, z_dim=15, x_sigma2=1e-4, learn_rate=1e-4, betas=(0.5, 0.999),\n",
    ")\n",
    "\n",
    "import torch.optim as optim\n",
    "from torch.utils.data import random_split\n",
    "from torch.utils.data import DataLoader\n",
    "from torch.nn import DataParallel\n",
    "from trainer import *\n",
    "import trainer\n",
    "from phrase_encoder_decoder import VAE, PhraseEncoder, \\\n",
    "    PhraseDecoder, vae_loss, PhraseDecoderWithSoftmax\n",
    "\n",
    "torch.manual_seed(42)\n",
    "device = torch.device('cuda' if torch.cuda.is_available() else 'cpu')\n",
    "print('Using device:', device)\n",
    "\n",
    "# Hyperparams\n",
    "batch_size = hp['batch_size']\n",
    "z_dim = hp['z_dim']\n",
    "x_sigma2 = hp['x_sigma2']\n",
    "learn_rate = hp['learn_rate']\n",
    "betas = hp['betas']\n",
    "\n",
    "# Data\n",
    "train_length = int(len(phrase_tensor_dataset)*0.9)\n",
    "split_lengths = [train_length, len(phrase_tensor_dataset) - train_length]\n",
    "ds_train, ds_test = random_split(phrase_tensor_dataset, split_lengths)\n",
    "dl_train = DataLoader(ds_train, batch_size, shuffle=True)\n",
    "dl_test  = DataLoader(ds_test,  batch_size, shuffle=True)\n",
    "im_size = ds_train[0][0].shape[0]\n",
    "\n",
    "# Model\n",
    "encoder = PhraseEncoder(im_size, z_dim)\n",
    "decoder = PhraseDecoderWithSoftmax(z_dim, im_size)\n",
    "vae = VAE(encoder, decoder, im_size, z_dim)\n",
    "vae_dp = DataParallel(vae).to(device)\n",
    "\n",
    "# Optimizer\n",
    "optimizer = optim.Adam(vae.parameters(), lr=learn_rate, betas=betas)\n",
    "\n",
    "# Loss\n",
    "def loss_fn(x, xr, z_mu, z_log_sigma2):\n",
    "    return vae_loss(x, xr, z_mu, z_log_sigma2, x_sigma2)\n",
    "\n",
    "# Trainer\n",
    "trainer = VAETrainer(vae_dp, loss_fn, optimizer, device)\n",
    "checkpoint_file = 'checkpoints/vae'\n",
    "checkpoint_file_final = f'{checkpoint_file}_final'\n",
    "if os.path.isfile(f'{checkpoint_file}.pt'):\n",
    "    os.remove(f'{checkpoint_file}.pt')\n",
    "\n",
    "# Show model and hypers\n",
    "print(vae)\n",
    "print(hp)"
   ],
   "metadata": {
    "collapsed": false,
    "pycharm": {
     "name": "#%%\n"
    }
   }
  },
  {
   "cell_type": "code",
   "execution_count": null,
   "outputs": [
    {
     "name": "stdout",
     "output_type": "stream",
     "text": [
      "--- EPOCH 1/200 ---\n"
     ]
    },
    {
     "data": {
      "text/plain": "train_batch:   0%|          | 0/186 [00:00<?, ?it/s]",
      "application/vnd.jupyter.widget-view+json": {
       "version_major": 2,
       "version_minor": 0,
       "model_id": "dddd0ddd42594f92ba3131dd15cf8eed"
      }
     },
     "metadata": {},
     "output_type": "display_data"
    },
    {
     "data": {
      "text/plain": "test_batch:   0%|          | 0/21 [00:00<?, ?it/s]",
      "application/vnd.jupyter.widget-view+json": {
       "version_major": 2,
       "version_minor": 0,
       "model_id": "d7d735b08ef94e57ba3639ecd34b806e"
      }
     },
     "metadata": {},
     "output_type": "display_data"
    },
    {
     "name": "stdout",
     "output_type": "stream",
     "text": [
      "\n",
      "*** Saved checkpoint checkpoints/vae.pt\n"
     ]
    },
    {
     "data": {
      "text/plain": "train_batch:   0%|          | 0/186 [00:00<?, ?it/s]",
      "application/vnd.jupyter.widget-view+json": {
       "version_major": 2,
       "version_minor": 0,
       "model_id": "6db44a5c628c4530a81608c1a8d5e0d6"
      }
     },
     "metadata": {},
     "output_type": "display_data"
    },
    {
     "data": {
      "text/plain": "test_batch:   0%|          | 0/21 [00:00<?, ?it/s]",
      "application/vnd.jupyter.widget-view+json": {
       "version_major": 2,
       "version_minor": 0,
       "model_id": "bbf5fbffec5d4eed89e5ac054f08f5f5"
      }
     },
     "metadata": {},
     "output_type": "display_data"
    },
    {
     "name": "stdout",
     "output_type": "stream",
     "text": [
      "\n",
      "*** Saved checkpoint checkpoints/vae.pt\n"
     ]
    },
    {
     "data": {
      "text/plain": "train_batch:   0%|          | 0/186 [00:00<?, ?it/s]",
      "application/vnd.jupyter.widget-view+json": {
       "version_major": 2,
       "version_minor": 0,
       "model_id": "f4afa1e7af7d4afaaa60e164dbb3d1a6"
      }
     },
     "metadata": {},
     "output_type": "display_data"
    },
    {
     "data": {
      "text/plain": "test_batch:   0%|          | 0/21 [00:00<?, ?it/s]",
      "application/vnd.jupyter.widget-view+json": {
       "version_major": 2,
       "version_minor": 0,
       "model_id": "e4e664c642514ef3846108b98157d5f4"
      }
     },
     "metadata": {},
     "output_type": "display_data"
    },
    {
     "name": "stdout",
     "output_type": "stream",
     "text": [
      "\n",
      "*** Saved checkpoint checkpoints/vae.pt\n"
     ]
    },
    {
     "data": {
      "text/plain": "train_batch:   0%|          | 0/186 [00:00<?, ?it/s]",
      "application/vnd.jupyter.widget-view+json": {
       "version_major": 2,
       "version_minor": 0,
       "model_id": "57aac9b9c0eb4ec2918cf1df1c0f5dc9"
      }
     },
     "metadata": {},
     "output_type": "display_data"
    },
    {
     "data": {
      "text/plain": "test_batch:   0%|          | 0/21 [00:00<?, ?it/s]",
      "application/vnd.jupyter.widget-view+json": {
       "version_major": 2,
       "version_minor": 0,
       "model_id": "7e2ec8ab8f3a47f7b5fc1e51e1b8ced9"
      }
     },
     "metadata": {},
     "output_type": "display_data"
    },
    {
     "name": "stdout",
     "output_type": "stream",
     "text": [
      "\n",
      "*** Saved checkpoint checkpoints/vae.pt\n"
     ]
    },
    {
     "data": {
      "text/plain": "train_batch:   0%|          | 0/186 [00:00<?, ?it/s]",
      "application/vnd.jupyter.widget-view+json": {
       "version_major": 2,
       "version_minor": 0,
       "model_id": "b63375eeb72840b39e1392e51184b477"
      }
     },
     "metadata": {},
     "output_type": "display_data"
    },
    {
     "data": {
      "text/plain": "test_batch:   0%|          | 0/21 [00:00<?, ?it/s]",
      "application/vnd.jupyter.widget-view+json": {
       "version_major": 2,
       "version_minor": 0,
       "model_id": "1a3a99f5d6ac4def9b4d405eb846ac5d"
      }
     },
     "metadata": {},
     "output_type": "display_data"
    },
    {
     "name": "stdout",
     "output_type": "stream",
     "text": [
      "\n",
      "*** Saved checkpoint checkpoints/vae.pt\n"
     ]
    },
    {
     "data": {
      "text/plain": "train_batch:   0%|          | 0/186 [00:00<?, ?it/s]",
      "application/vnd.jupyter.widget-view+json": {
       "version_major": 2,
       "version_minor": 0,
       "model_id": "a140de8f6af041beb16d56056c2f850a"
      }
     },
     "metadata": {},
     "output_type": "display_data"
    },
    {
     "data": {
      "text/plain": "test_batch:   0%|          | 0/21 [00:00<?, ?it/s]",
      "application/vnd.jupyter.widget-view+json": {
       "version_major": 2,
       "version_minor": 0,
       "model_id": "c314a5fb4b54425caf793f6d5ea6e218"
      }
     },
     "metadata": {},
     "output_type": "display_data"
    },
    {
     "name": "stdout",
     "output_type": "stream",
     "text": [
      "\n",
      "*** Saved checkpoint checkpoints/vae.pt\n"
     ]
    },
    {
     "data": {
      "text/plain": "train_batch:   0%|          | 0/186 [00:00<?, ?it/s]",
      "application/vnd.jupyter.widget-view+json": {
       "version_major": 2,
       "version_minor": 0,
       "model_id": "0d6e4f5a467042f9aca0b0d8ba674062"
      }
     },
     "metadata": {},
     "output_type": "display_data"
    },
    {
     "data": {
      "text/plain": "test_batch:   0%|          | 0/21 [00:00<?, ?it/s]",
      "application/vnd.jupyter.widget-view+json": {
       "version_major": 2,
       "version_minor": 0,
       "model_id": "c5f97e880fb243bc802aa58d08785c10"
      }
     },
     "metadata": {},
     "output_type": "display_data"
    },
    {
     "name": "stdout",
     "output_type": "stream",
     "text": [
      "\n",
      "*** Saved checkpoint checkpoints/vae.pt\n"
     ]
    },
    {
     "data": {
      "text/plain": "train_batch:   0%|          | 0/186 [00:00<?, ?it/s]",
      "application/vnd.jupyter.widget-view+json": {
       "version_major": 2,
       "version_minor": 0,
       "model_id": "8ff4e5d83d894c28a43bdbf3c7b6f42f"
      }
     },
     "metadata": {},
     "output_type": "display_data"
    },
    {
     "data": {
      "text/plain": "test_batch:   0%|          | 0/21 [00:00<?, ?it/s]",
      "application/vnd.jupyter.widget-view+json": {
       "version_major": 2,
       "version_minor": 0,
       "model_id": "eb28d1d72a604046855ea4ddff6e0d6b"
      }
     },
     "metadata": {},
     "output_type": "display_data"
    },
    {
     "name": "stdout",
     "output_type": "stream",
     "text": [
      "\n",
      "*** Saved checkpoint checkpoints/vae.pt\n"
     ]
    },
    {
     "data": {
      "text/plain": "train_batch:   0%|          | 0/186 [00:00<?, ?it/s]",
      "application/vnd.jupyter.widget-view+json": {
       "version_major": 2,
       "version_minor": 0,
       "model_id": "433940e822854f1ca16b87c37efcd6bf"
      }
     },
     "metadata": {},
     "output_type": "display_data"
    },
    {
     "data": {
      "text/plain": "test_batch:   0%|          | 0/21 [00:00<?, ?it/s]",
      "application/vnd.jupyter.widget-view+json": {
       "version_major": 2,
       "version_minor": 0,
       "model_id": "a037d86a636b4545b4969b23a5da0cac"
      }
     },
     "metadata": {},
     "output_type": "display_data"
    },
    {
     "name": "stdout",
     "output_type": "stream",
     "text": [
      "\n",
      "*** Saved checkpoint checkpoints/vae.pt\n"
     ]
    },
    {
     "data": {
      "text/plain": "train_batch:   0%|          | 0/186 [00:00<?, ?it/s]",
      "application/vnd.jupyter.widget-view+json": {
       "version_major": 2,
       "version_minor": 0,
       "model_id": "d4a951001ea6404e9dd99a872a0483b8"
      }
     },
     "metadata": {},
     "output_type": "display_data"
    },
    {
     "data": {
      "text/plain": "test_batch:   0%|          | 0/21 [00:00<?, ?it/s]",
      "application/vnd.jupyter.widget-view+json": {
       "version_major": 2,
       "version_minor": 0,
       "model_id": "2e8937fcdd944877a2f9c74e5a99c1b9"
      }
     },
     "metadata": {},
     "output_type": "display_data"
    },
    {
     "name": "stdout",
     "output_type": "stream",
     "text": [
      "\n",
      "*** Saved checkpoint checkpoints/vae.pt\n",
      "--- EPOCH 11/200 ---\n"
     ]
    },
    {
     "data": {
      "text/plain": "train_batch:   0%|          | 0/186 [00:00<?, ?it/s]",
      "application/vnd.jupyter.widget-view+json": {
       "version_major": 2,
       "version_minor": 0,
       "model_id": "5a655753b48e4d1cb9f2f0c5230b77ad"
      }
     },
     "metadata": {},
     "output_type": "display_data"
    },
    {
     "data": {
      "text/plain": "test_batch:   0%|          | 0/21 [00:00<?, ?it/s]",
      "application/vnd.jupyter.widget-view+json": {
       "version_major": 2,
       "version_minor": 0,
       "model_id": "b23f29be270d48f8ba8af7f92208795e"
      }
     },
     "metadata": {},
     "output_type": "display_data"
    },
    {
     "name": "stdout",
     "output_type": "stream",
     "text": [
      "\n",
      "*** Saved checkpoint checkpoints/vae.pt\n"
     ]
    },
    {
     "data": {
      "text/plain": "train_batch:   0%|          | 0/186 [00:00<?, ?it/s]",
      "application/vnd.jupyter.widget-view+json": {
       "version_major": 2,
       "version_minor": 0,
       "model_id": "6e8e93af1630441d9e431bd02adbf84c"
      }
     },
     "metadata": {},
     "output_type": "display_data"
    },
    {
     "data": {
      "text/plain": "test_batch:   0%|          | 0/21 [00:00<?, ?it/s]",
      "application/vnd.jupyter.widget-view+json": {
       "version_major": 2,
       "version_minor": 0,
       "model_id": "3b67c51d42194d0392f255b8ecdd26e3"
      }
     },
     "metadata": {},
     "output_type": "display_data"
    },
    {
     "name": "stdout",
     "output_type": "stream",
     "text": [
      "\n",
      "*** Saved checkpoint checkpoints/vae.pt\n"
     ]
    },
    {
     "data": {
      "text/plain": "train_batch:   0%|          | 0/186 [00:00<?, ?it/s]",
      "application/vnd.jupyter.widget-view+json": {
       "version_major": 2,
       "version_minor": 0,
       "model_id": "581b8d71b7354a588b12b27a5498d6a1"
      }
     },
     "metadata": {},
     "output_type": "display_data"
    },
    {
     "data": {
      "text/plain": "test_batch:   0%|          | 0/21 [00:00<?, ?it/s]",
      "application/vnd.jupyter.widget-view+json": {
       "version_major": 2,
       "version_minor": 0,
       "model_id": "67a677eca8ff41989d4d150ceaf6e443"
      }
     },
     "metadata": {},
     "output_type": "display_data"
    },
    {
     "name": "stdout",
     "output_type": "stream",
     "text": [
      "\n",
      "*** Saved checkpoint checkpoints/vae.pt\n"
     ]
    },
    {
     "data": {
      "text/plain": "train_batch:   0%|          | 0/186 [00:00<?, ?it/s]",
      "application/vnd.jupyter.widget-view+json": {
       "version_major": 2,
       "version_minor": 0,
       "model_id": "8223dea7f8af403db7d538753f791a6d"
      }
     },
     "metadata": {},
     "output_type": "display_data"
    },
    {
     "data": {
      "text/plain": "test_batch:   0%|          | 0/21 [00:00<?, ?it/s]",
      "application/vnd.jupyter.widget-view+json": {
       "version_major": 2,
       "version_minor": 0,
       "model_id": "9da1503d1ba24680a4226b13e9b67ad4"
      }
     },
     "metadata": {},
     "output_type": "display_data"
    },
    {
     "name": "stdout",
     "output_type": "stream",
     "text": [
      "\n",
      "*** Saved checkpoint checkpoints/vae.pt\n"
     ]
    },
    {
     "data": {
      "text/plain": "train_batch:   0%|          | 0/186 [00:00<?, ?it/s]",
      "application/vnd.jupyter.widget-view+json": {
       "version_major": 2,
       "version_minor": 0,
       "model_id": "6e317c4f60f046359ce131b9082308ed"
      }
     },
     "metadata": {},
     "output_type": "display_data"
    },
    {
     "data": {
      "text/plain": "test_batch:   0%|          | 0/21 [00:00<?, ?it/s]",
      "application/vnd.jupyter.widget-view+json": {
       "version_major": 2,
       "version_minor": 0,
       "model_id": "f076aef8fd5b416aa39730695990e48c"
      }
     },
     "metadata": {},
     "output_type": "display_data"
    },
    {
     "data": {
      "text/plain": "train_batch:   0%|          | 0/186 [00:00<?, ?it/s]",
      "application/vnd.jupyter.widget-view+json": {
       "version_major": 2,
       "version_minor": 0,
       "model_id": "2c07abd378a441edb9c89975007bc2f5"
      }
     },
     "metadata": {},
     "output_type": "display_data"
    },
    {
     "data": {
      "text/plain": "test_batch:   0%|          | 0/21 [00:00<?, ?it/s]",
      "application/vnd.jupyter.widget-view+json": {
       "version_major": 2,
       "version_minor": 0,
       "model_id": "c748f43543004910a749935cb88d388a"
      }
     },
     "metadata": {},
     "output_type": "display_data"
    },
    {
     "name": "stdout",
     "output_type": "stream",
     "text": [
      "\n",
      "*** Saved checkpoint checkpoints/vae.pt\n"
     ]
    },
    {
     "data": {
      "text/plain": "train_batch:   0%|          | 0/186 [00:00<?, ?it/s]",
      "application/vnd.jupyter.widget-view+json": {
       "version_major": 2,
       "version_minor": 0,
       "model_id": "f7511131aa91402abc524f8c3c478951"
      }
     },
     "metadata": {},
     "output_type": "display_data"
    },
    {
     "data": {
      "text/plain": "test_batch:   0%|          | 0/21 [00:00<?, ?it/s]",
      "application/vnd.jupyter.widget-view+json": {
       "version_major": 2,
       "version_minor": 0,
       "model_id": "2296ed7725b5452eae57db9e91c81340"
      }
     },
     "metadata": {},
     "output_type": "display_data"
    },
    {
     "name": "stdout",
     "output_type": "stream",
     "text": [
      "\n",
      "*** Saved checkpoint checkpoints/vae.pt\n"
     ]
    },
    {
     "data": {
      "text/plain": "train_batch:   0%|          | 0/186 [00:00<?, ?it/s]",
      "application/vnd.jupyter.widget-view+json": {
       "version_major": 2,
       "version_minor": 0,
       "model_id": "d0541a4d28dd456d944fbee3b26c3969"
      }
     },
     "metadata": {},
     "output_type": "display_data"
    },
    {
     "data": {
      "text/plain": "test_batch:   0%|          | 0/21 [00:00<?, ?it/s]",
      "application/vnd.jupyter.widget-view+json": {
       "version_major": 2,
       "version_minor": 0,
       "model_id": "c061ace6821446fa9dec94c89f586ddd"
      }
     },
     "metadata": {},
     "output_type": "display_data"
    },
    {
     "name": "stdout",
     "output_type": "stream",
     "text": [
      "\n",
      "*** Saved checkpoint checkpoints/vae.pt\n"
     ]
    },
    {
     "data": {
      "text/plain": "train_batch:   0%|          | 0/186 [00:00<?, ?it/s]",
      "application/vnd.jupyter.widget-view+json": {
       "version_major": 2,
       "version_minor": 0,
       "model_id": "844ab6ba5be045179ef89c64b23cde4f"
      }
     },
     "metadata": {},
     "output_type": "display_data"
    },
    {
     "data": {
      "text/plain": "test_batch:   0%|          | 0/21 [00:00<?, ?it/s]",
      "application/vnd.jupyter.widget-view+json": {
       "version_major": 2,
       "version_minor": 0,
       "model_id": "e050f48fbf1b49868f94c44cfa02b7d5"
      }
     },
     "metadata": {},
     "output_type": "display_data"
    },
    {
     "name": "stdout",
     "output_type": "stream",
     "text": [
      "\n",
      "*** Saved checkpoint checkpoints/vae.pt\n"
     ]
    },
    {
     "data": {
      "text/plain": "train_batch:   0%|          | 0/186 [00:00<?, ?it/s]",
      "application/vnd.jupyter.widget-view+json": {
       "version_major": 2,
       "version_minor": 0,
       "model_id": "2f1cb90e5cd74e84be7b8ac55dbeb881"
      }
     },
     "metadata": {},
     "output_type": "display_data"
    },
    {
     "data": {
      "text/plain": "test_batch:   0%|          | 0/21 [00:00<?, ?it/s]",
      "application/vnd.jupyter.widget-view+json": {
       "version_major": 2,
       "version_minor": 0,
       "model_id": "958f577a179545e4b3841aeab93ac34b"
      }
     },
     "metadata": {},
     "output_type": "display_data"
    },
    {
     "name": "stdout",
     "output_type": "stream",
     "text": [
      "\n",
      "*** Saved checkpoint checkpoints/vae.pt\n",
      "--- EPOCH 21/200 ---\n"
     ]
    },
    {
     "data": {
      "text/plain": "train_batch:   0%|          | 0/186 [00:00<?, ?it/s]",
      "application/vnd.jupyter.widget-view+json": {
       "version_major": 2,
       "version_minor": 0,
       "model_id": "38cc8663bb8740dea57e6f0980dae918"
      }
     },
     "metadata": {},
     "output_type": "display_data"
    },
    {
     "data": {
      "text/plain": "test_batch:   0%|          | 0/21 [00:00<?, ?it/s]",
      "application/vnd.jupyter.widget-view+json": {
       "version_major": 2,
       "version_minor": 0,
       "model_id": "ba5290d453b84c5ca8b0fab4f5ece1a9"
      }
     },
     "metadata": {},
     "output_type": "display_data"
    },
    {
     "name": "stdout",
     "output_type": "stream",
     "text": [
      "\n",
      "*** Saved checkpoint checkpoints/vae.pt\n"
     ]
    },
    {
     "data": {
      "text/plain": "train_batch:   0%|          | 0/186 [00:00<?, ?it/s]",
      "application/vnd.jupyter.widget-view+json": {
       "version_major": 2,
       "version_minor": 0,
       "model_id": "7a901c8ee43a428dbba8f6454c3b4a65"
      }
     },
     "metadata": {},
     "output_type": "display_data"
    },
    {
     "data": {
      "text/plain": "test_batch:   0%|          | 0/21 [00:00<?, ?it/s]",
      "application/vnd.jupyter.widget-view+json": {
       "version_major": 2,
       "version_minor": 0,
       "model_id": "6950f243c2d34e83ab01df2b5c070243"
      }
     },
     "metadata": {},
     "output_type": "display_data"
    },
    {
     "name": "stdout",
     "output_type": "stream",
     "text": [
      "\n",
      "*** Saved checkpoint checkpoints/vae.pt\n"
     ]
    },
    {
     "data": {
      "text/plain": "train_batch:   0%|          | 0/186 [00:00<?, ?it/s]",
      "application/vnd.jupyter.widget-view+json": {
       "version_major": 2,
       "version_minor": 0,
       "model_id": "bd31656512124c5a8e1114d08f5e775c"
      }
     },
     "metadata": {},
     "output_type": "display_data"
    },
    {
     "data": {
      "text/plain": "test_batch:   0%|          | 0/21 [00:00<?, ?it/s]",
      "application/vnd.jupyter.widget-view+json": {
       "version_major": 2,
       "version_minor": 0,
       "model_id": "9eb070b84e534585a1850bb881808ea6"
      }
     },
     "metadata": {},
     "output_type": "display_data"
    },
    {
     "name": "stdout",
     "output_type": "stream",
     "text": [
      "\n",
      "*** Saved checkpoint checkpoints/vae.pt\n"
     ]
    },
    {
     "data": {
      "text/plain": "train_batch:   0%|          | 0/186 [00:00<?, ?it/s]",
      "application/vnd.jupyter.widget-view+json": {
       "version_major": 2,
       "version_minor": 0,
       "model_id": "a76956f96b1f4ef5a4b41d08157f1bdc"
      }
     },
     "metadata": {},
     "output_type": "display_data"
    },
    {
     "data": {
      "text/plain": "test_batch:   0%|          | 0/21 [00:00<?, ?it/s]",
      "application/vnd.jupyter.widget-view+json": {
       "version_major": 2,
       "version_minor": 0,
       "model_id": "3f8142c05c34463ea8a96f266b7162b4"
      }
     },
     "metadata": {},
     "output_type": "display_data"
    },
    {
     "name": "stdout",
     "output_type": "stream",
     "text": [
      "\n",
      "*** Saved checkpoint checkpoints/vae.pt\n"
     ]
    },
    {
     "data": {
      "text/plain": "train_batch:   0%|          | 0/186 [00:00<?, ?it/s]",
      "application/vnd.jupyter.widget-view+json": {
       "version_major": 2,
       "version_minor": 0,
       "model_id": "80f40889e91a4d9f922af04c922aaf6f"
      }
     },
     "metadata": {},
     "output_type": "display_data"
    },
    {
     "data": {
      "text/plain": "test_batch:   0%|          | 0/21 [00:00<?, ?it/s]",
      "application/vnd.jupyter.widget-view+json": {
       "version_major": 2,
       "version_minor": 0,
       "model_id": "3f2fec36031e4b6189529c967cc4b969"
      }
     },
     "metadata": {},
     "output_type": "display_data"
    },
    {
     "name": "stdout",
     "output_type": "stream",
     "text": [
      "\n",
      "*** Saved checkpoint checkpoints/vae.pt\n"
     ]
    },
    {
     "data": {
      "text/plain": "train_batch:   0%|          | 0/186 [00:00<?, ?it/s]",
      "application/vnd.jupyter.widget-view+json": {
       "version_major": 2,
       "version_minor": 0,
       "model_id": "0a4d89c9bdb54c6cb15652920224a49a"
      }
     },
     "metadata": {},
     "output_type": "display_data"
    },
    {
     "data": {
      "text/plain": "test_batch:   0%|          | 0/21 [00:00<?, ?it/s]",
      "application/vnd.jupyter.widget-view+json": {
       "version_major": 2,
       "version_minor": 0,
       "model_id": "2833505c89b84186b0c603a145e288d9"
      }
     },
     "metadata": {},
     "output_type": "display_data"
    },
    {
     "name": "stdout",
     "output_type": "stream",
     "text": [
      "\n",
      "*** Saved checkpoint checkpoints/vae.pt\n"
     ]
    },
    {
     "data": {
      "text/plain": "train_batch:   0%|          | 0/186 [00:00<?, ?it/s]",
      "application/vnd.jupyter.widget-view+json": {
       "version_major": 2,
       "version_minor": 0,
       "model_id": "0937ccd8a63947dfbb83c3a718fbb0e8"
      }
     },
     "metadata": {},
     "output_type": "display_data"
    },
    {
     "data": {
      "text/plain": "test_batch:   0%|          | 0/21 [00:00<?, ?it/s]",
      "application/vnd.jupyter.widget-view+json": {
       "version_major": 2,
       "version_minor": 0,
       "model_id": "826e4ff143c543398e5247211152c34a"
      }
     },
     "metadata": {},
     "output_type": "display_data"
    },
    {
     "name": "stdout",
     "output_type": "stream",
     "text": [
      "\n",
      "*** Saved checkpoint checkpoints/vae.pt\n"
     ]
    },
    {
     "data": {
      "text/plain": "train_batch:   0%|          | 0/186 [00:00<?, ?it/s]",
      "application/vnd.jupyter.widget-view+json": {
       "version_major": 2,
       "version_minor": 0,
       "model_id": "f6d399bfb98b4c17b218df872f0fe4ce"
      }
     },
     "metadata": {},
     "output_type": "display_data"
    },
    {
     "data": {
      "text/plain": "test_batch:   0%|          | 0/21 [00:00<?, ?it/s]",
      "application/vnd.jupyter.widget-view+json": {
       "version_major": 2,
       "version_minor": 0,
       "model_id": "2800c695373a47f486730de74a40b8dd"
      }
     },
     "metadata": {},
     "output_type": "display_data"
    },
    {
     "name": "stdout",
     "output_type": "stream",
     "text": [
      "\n",
      "*** Saved checkpoint checkpoints/vae.pt\n"
     ]
    },
    {
     "data": {
      "text/plain": "train_batch:   0%|          | 0/186 [00:00<?, ?it/s]",
      "application/vnd.jupyter.widget-view+json": {
       "version_major": 2,
       "version_minor": 0,
       "model_id": "00b0fa1cffe144449356253bbb179d1c"
      }
     },
     "metadata": {},
     "output_type": "display_data"
    },
    {
     "data": {
      "text/plain": "test_batch:   0%|          | 0/21 [00:00<?, ?it/s]",
      "application/vnd.jupyter.widget-view+json": {
       "version_major": 2,
       "version_minor": 0,
       "model_id": "c90b4e7900734c5680da3fd538904c88"
      }
     },
     "metadata": {},
     "output_type": "display_data"
    },
    {
     "data": {
      "text/plain": "train_batch:   0%|          | 0/186 [00:00<?, ?it/s]",
      "application/vnd.jupyter.widget-view+json": {
       "version_major": 2,
       "version_minor": 0,
       "model_id": "a067b7e7c53746d0b2f55b342359be83"
      }
     },
     "metadata": {},
     "output_type": "display_data"
    },
    {
     "data": {
      "text/plain": "test_batch:   0%|          | 0/21 [00:00<?, ?it/s]",
      "application/vnd.jupyter.widget-view+json": {
       "version_major": 2,
       "version_minor": 0,
       "model_id": "e76b8c177e0e4ca588b797c0d76d3f6e"
      }
     },
     "metadata": {},
     "output_type": "display_data"
    },
    {
     "name": "stdout",
     "output_type": "stream",
     "text": [
      "\n",
      "*** Saved checkpoint checkpoints/vae.pt\n",
      "--- EPOCH 31/200 ---\n"
     ]
    },
    {
     "data": {
      "text/plain": "train_batch:   0%|          | 0/186 [00:00<?, ?it/s]",
      "application/vnd.jupyter.widget-view+json": {
       "version_major": 2,
       "version_minor": 0,
       "model_id": "2292f8bd19414edead5792a601d252f1"
      }
     },
     "metadata": {},
     "output_type": "display_data"
    },
    {
     "data": {
      "text/plain": "test_batch:   0%|          | 0/21 [00:00<?, ?it/s]",
      "application/vnd.jupyter.widget-view+json": {
       "version_major": 2,
       "version_minor": 0,
       "model_id": "b32f3351e413460c95205666e921fd69"
      }
     },
     "metadata": {},
     "output_type": "display_data"
    },
    {
     "data": {
      "text/plain": "train_batch:   0%|          | 0/186 [00:00<?, ?it/s]",
      "application/vnd.jupyter.widget-view+json": {
       "version_major": 2,
       "version_minor": 0,
       "model_id": "7e99b3c2d8ef47c5b7b8bf80c2e40def"
      }
     },
     "metadata": {},
     "output_type": "display_data"
    },
    {
     "data": {
      "text/plain": "test_batch:   0%|          | 0/21 [00:00<?, ?it/s]",
      "application/vnd.jupyter.widget-view+json": {
       "version_major": 2,
       "version_minor": 0,
       "model_id": "c304126fea214e799993631f7332be67"
      }
     },
     "metadata": {},
     "output_type": "display_data"
    },
    {
     "name": "stdout",
     "output_type": "stream",
     "text": [
      "\n",
      "*** Saved checkpoint checkpoints/vae.pt\n"
     ]
    },
    {
     "data": {
      "text/plain": "train_batch:   0%|          | 0/186 [00:00<?, ?it/s]",
      "application/vnd.jupyter.widget-view+json": {
       "version_major": 2,
       "version_minor": 0,
       "model_id": "4b932b886ed44428904bc296dde4ea5e"
      }
     },
     "metadata": {},
     "output_type": "display_data"
    },
    {
     "data": {
      "text/plain": "test_batch:   0%|          | 0/21 [00:00<?, ?it/s]",
      "application/vnd.jupyter.widget-view+json": {
       "version_major": 2,
       "version_minor": 0,
       "model_id": "3fccc865d2ba4ec8b7fd1d67b13cda6a"
      }
     },
     "metadata": {},
     "output_type": "display_data"
    },
    {
     "name": "stdout",
     "output_type": "stream",
     "text": [
      "\n",
      "*** Saved checkpoint checkpoints/vae.pt\n"
     ]
    },
    {
     "data": {
      "text/plain": "train_batch:   0%|          | 0/186 [00:00<?, ?it/s]",
      "application/vnd.jupyter.widget-view+json": {
       "version_major": 2,
       "version_minor": 0,
       "model_id": "e037906333404837a9c278c99f46dab5"
      }
     },
     "metadata": {},
     "output_type": "display_data"
    },
    {
     "data": {
      "text/plain": "test_batch:   0%|          | 0/21 [00:00<?, ?it/s]",
      "application/vnd.jupyter.widget-view+json": {
       "version_major": 2,
       "version_minor": 0,
       "model_id": "006a38b1c7e94477a89a6898aa58f20d"
      }
     },
     "metadata": {},
     "output_type": "display_data"
    },
    {
     "data": {
      "text/plain": "train_batch:   0%|          | 0/186 [00:00<?, ?it/s]",
      "application/vnd.jupyter.widget-view+json": {
       "version_major": 2,
       "version_minor": 0,
       "model_id": "6c804a17474b4708b175af83eaa8f864"
      }
     },
     "metadata": {},
     "output_type": "display_data"
    },
    {
     "data": {
      "text/plain": "test_batch:   0%|          | 0/21 [00:00<?, ?it/s]",
      "application/vnd.jupyter.widget-view+json": {
       "version_major": 2,
       "version_minor": 0,
       "model_id": "3293151bb2d5422e8ba06122d6caec75"
      }
     },
     "metadata": {},
     "output_type": "display_data"
    },
    {
     "name": "stdout",
     "output_type": "stream",
     "text": [
      "\n",
      "*** Saved checkpoint checkpoints/vae.pt\n"
     ]
    },
    {
     "data": {
      "text/plain": "train_batch:   0%|          | 0/186 [00:00<?, ?it/s]",
      "application/vnd.jupyter.widget-view+json": {
       "version_major": 2,
       "version_minor": 0,
       "model_id": "77402e859a334552a0fdd78f412b815b"
      }
     },
     "metadata": {},
     "output_type": "display_data"
    },
    {
     "data": {
      "text/plain": "test_batch:   0%|          | 0/21 [00:00<?, ?it/s]",
      "application/vnd.jupyter.widget-view+json": {
       "version_major": 2,
       "version_minor": 0,
       "model_id": "cdac0211beda4444bdfcf464acd5a65f"
      }
     },
     "metadata": {},
     "output_type": "display_data"
    },
    {
     "data": {
      "text/plain": "train_batch:   0%|          | 0/186 [00:00<?, ?it/s]",
      "application/vnd.jupyter.widget-view+json": {
       "version_major": 2,
       "version_minor": 0,
       "model_id": "02dec4bd93aa4609a25d059e79aba925"
      }
     },
     "metadata": {},
     "output_type": "display_data"
    },
    {
     "data": {
      "text/plain": "test_batch:   0%|          | 0/21 [00:00<?, ?it/s]",
      "application/vnd.jupyter.widget-view+json": {
       "version_major": 2,
       "version_minor": 0,
       "model_id": "393136bbce8c476c992d8864bf171f41"
      }
     },
     "metadata": {},
     "output_type": "display_data"
    },
    {
     "data": {
      "text/plain": "train_batch:   0%|          | 0/186 [00:00<?, ?it/s]",
      "application/vnd.jupyter.widget-view+json": {
       "version_major": 2,
       "version_minor": 0,
       "model_id": "98c262a9e5fc4caba7e3cc6ef960ab56"
      }
     },
     "metadata": {},
     "output_type": "display_data"
    },
    {
     "data": {
      "text/plain": "test_batch:   0%|          | 0/21 [00:00<?, ?it/s]",
      "application/vnd.jupyter.widget-view+json": {
       "version_major": 2,
       "version_minor": 0,
       "model_id": "9f74548b36b04b5abe064b7b3f46f121"
      }
     },
     "metadata": {},
     "output_type": "display_data"
    },
    {
     "name": "stdout",
     "output_type": "stream",
     "text": [
      "\n",
      "*** Saved checkpoint checkpoints/vae.pt\n"
     ]
    },
    {
     "data": {
      "text/plain": "train_batch:   0%|          | 0/186 [00:00<?, ?it/s]",
      "application/vnd.jupyter.widget-view+json": {
       "version_major": 2,
       "version_minor": 0,
       "model_id": "f961245382c14783b4c7ed242c3fbf9c"
      }
     },
     "metadata": {},
     "output_type": "display_data"
    },
    {
     "data": {
      "text/plain": "test_batch:   0%|          | 0/21 [00:00<?, ?it/s]",
      "application/vnd.jupyter.widget-view+json": {
       "version_major": 2,
       "version_minor": 0,
       "model_id": "51621e48461349fa9315dd049e8e0008"
      }
     },
     "metadata": {},
     "output_type": "display_data"
    },
    {
     "name": "stdout",
     "output_type": "stream",
     "text": [
      "\n",
      "*** Saved checkpoint checkpoints/vae.pt\n"
     ]
    },
    {
     "data": {
      "text/plain": "train_batch:   0%|          | 0/186 [00:00<?, ?it/s]",
      "application/vnd.jupyter.widget-view+json": {
       "version_major": 2,
       "version_minor": 0,
       "model_id": "b8ccf1d5577f44ebbb8d0cae6a17aa71"
      }
     },
     "metadata": {},
     "output_type": "display_data"
    },
    {
     "data": {
      "text/plain": "test_batch:   0%|          | 0/21 [00:00<?, ?it/s]",
      "application/vnd.jupyter.widget-view+json": {
       "version_major": 2,
       "version_minor": 0,
       "model_id": "e5c1a89872b042c89ec33c20e04d673c"
      }
     },
     "metadata": {},
     "output_type": "display_data"
    },
    {
     "name": "stdout",
     "output_type": "stream",
     "text": [
      "--- EPOCH 41/200 ---\n"
     ]
    },
    {
     "data": {
      "text/plain": "train_batch:   0%|          | 0/186 [00:00<?, ?it/s]",
      "application/vnd.jupyter.widget-view+json": {
       "version_major": 2,
       "version_minor": 0,
       "model_id": "0af4a067435f441f91205800f6fc65f9"
      }
     },
     "metadata": {},
     "output_type": "display_data"
    },
    {
     "data": {
      "text/plain": "test_batch:   0%|          | 0/21 [00:00<?, ?it/s]",
      "application/vnd.jupyter.widget-view+json": {
       "version_major": 2,
       "version_minor": 0,
       "model_id": "ace08f2ff3ad47a39e8f58ba7ec0c1f3"
      }
     },
     "metadata": {},
     "output_type": "display_data"
    },
    {
     "data": {
      "text/plain": "train_batch:   0%|          | 0/186 [00:00<?, ?it/s]",
      "application/vnd.jupyter.widget-view+json": {
       "version_major": 2,
       "version_minor": 0,
       "model_id": "d021c01c9ce643bb9733a152d92b55e1"
      }
     },
     "metadata": {},
     "output_type": "display_data"
    },
    {
     "data": {
      "text/plain": "test_batch:   0%|          | 0/21 [00:00<?, ?it/s]",
      "application/vnd.jupyter.widget-view+json": {
       "version_major": 2,
       "version_minor": 0,
       "model_id": "9b36b8a329a44e2280d6c329643ad4ef"
      }
     },
     "metadata": {},
     "output_type": "display_data"
    },
    {
     "data": {
      "text/plain": "train_batch:   0%|          | 0/186 [00:00<?, ?it/s]",
      "application/vnd.jupyter.widget-view+json": {
       "version_major": 2,
       "version_minor": 0,
       "model_id": "624af5e96b4a41f2baf8d3d06a70a8dd"
      }
     },
     "metadata": {},
     "output_type": "display_data"
    },
    {
     "data": {
      "text/plain": "test_batch:   0%|          | 0/21 [00:00<?, ?it/s]",
      "application/vnd.jupyter.widget-view+json": {
       "version_major": 2,
       "version_minor": 0,
       "model_id": "cc558283253f480c9f6252db850b9b3f"
      }
     },
     "metadata": {},
     "output_type": "display_data"
    },
    {
     "data": {
      "text/plain": "train_batch:   0%|          | 0/186 [00:00<?, ?it/s]",
      "application/vnd.jupyter.widget-view+json": {
       "version_major": 2,
       "version_minor": 0,
       "model_id": "f3658a03a64b48e3b360c5b680da9d5c"
      }
     },
     "metadata": {},
     "output_type": "display_data"
    },
    {
     "data": {
      "text/plain": "test_batch:   0%|          | 0/21 [00:00<?, ?it/s]",
      "application/vnd.jupyter.widget-view+json": {
       "version_major": 2,
       "version_minor": 0,
       "model_id": "ac5fd4cefbf2439ab8f5ae267f6737c3"
      }
     },
     "metadata": {},
     "output_type": "display_data"
    },
    {
     "data": {
      "text/plain": "train_batch:   0%|          | 0/186 [00:00<?, ?it/s]",
      "application/vnd.jupyter.widget-view+json": {
       "version_major": 2,
       "version_minor": 0,
       "model_id": "695e9915a6fc469a85abe7d03394663a"
      }
     },
     "metadata": {},
     "output_type": "display_data"
    },
    {
     "data": {
      "text/plain": "test_batch:   0%|          | 0/21 [00:00<?, ?it/s]",
      "application/vnd.jupyter.widget-view+json": {
       "version_major": 2,
       "version_minor": 0,
       "model_id": "62c0b41a8c014b62a8d3ec9873315880"
      }
     },
     "metadata": {},
     "output_type": "display_data"
    },
    {
     "data": {
      "text/plain": "train_batch:   0%|          | 0/186 [00:00<?, ?it/s]",
      "application/vnd.jupyter.widget-view+json": {
       "version_major": 2,
       "version_minor": 0,
       "model_id": "a5b0fe8bc3d94ba08d3dbace9c2af65e"
      }
     },
     "metadata": {},
     "output_type": "display_data"
    },
    {
     "data": {
      "text/plain": "test_batch:   0%|          | 0/21 [00:00<?, ?it/s]",
      "application/vnd.jupyter.widget-view+json": {
       "version_major": 2,
       "version_minor": 0,
       "model_id": "af7cd6e98b76452ba14f04337b5f4590"
      }
     },
     "metadata": {},
     "output_type": "display_data"
    },
    {
     "data": {
      "text/plain": "train_batch:   0%|          | 0/186 [00:00<?, ?it/s]",
      "application/vnd.jupyter.widget-view+json": {
       "version_major": 2,
       "version_minor": 0,
       "model_id": "e5720800a6cb4854a164f0f70f622b88"
      }
     },
     "metadata": {},
     "output_type": "display_data"
    },
    {
     "data": {
      "text/plain": "test_batch:   0%|          | 0/21 [00:00<?, ?it/s]",
      "application/vnd.jupyter.widget-view+json": {
       "version_major": 2,
       "version_minor": 0,
       "model_id": "5012e7c9f54e4a68a0752ed7ea9ba5a3"
      }
     },
     "metadata": {},
     "output_type": "display_data"
    },
    {
     "data": {
      "text/plain": "train_batch:   0%|          | 0/186 [00:00<?, ?it/s]",
      "application/vnd.jupyter.widget-view+json": {
       "version_major": 2,
       "version_minor": 0,
       "model_id": "cda6c46b9b7b45d6b1173ddacc2ae20a"
      }
     },
     "metadata": {},
     "output_type": "display_data"
    },
    {
     "data": {
      "text/plain": "test_batch:   0%|          | 0/21 [00:00<?, ?it/s]",
      "application/vnd.jupyter.widget-view+json": {
       "version_major": 2,
       "version_minor": 0,
       "model_id": "95f13132db1844b1ae730dadb4b1947f"
      }
     },
     "metadata": {},
     "output_type": "display_data"
    },
    {
     "name": "stdout",
     "output_type": "stream",
     "text": [
      "\n",
      "*** Saved checkpoint checkpoints/vae.pt\n"
     ]
    },
    {
     "data": {
      "text/plain": "train_batch:   0%|          | 0/186 [00:00<?, ?it/s]",
      "application/vnd.jupyter.widget-view+json": {
       "version_major": 2,
       "version_minor": 0,
       "model_id": "135eeae4c4ff4c74b7ab084f00f41b28"
      }
     },
     "metadata": {},
     "output_type": "display_data"
    },
    {
     "data": {
      "text/plain": "test_batch:   0%|          | 0/21 [00:00<?, ?it/s]",
      "application/vnd.jupyter.widget-view+json": {
       "version_major": 2,
       "version_minor": 0,
       "model_id": "e629985690334d458b6dcba1aa8c44e5"
      }
     },
     "metadata": {},
     "output_type": "display_data"
    },
    {
     "data": {
      "text/plain": "train_batch:   0%|          | 0/186 [00:00<?, ?it/s]",
      "application/vnd.jupyter.widget-view+json": {
       "version_major": 2,
       "version_minor": 0,
       "model_id": "9f6cf09b05ec484dbb22071f34f640d7"
      }
     },
     "metadata": {},
     "output_type": "display_data"
    },
    {
     "data": {
      "text/plain": "test_batch:   0%|          | 0/21 [00:00<?, ?it/s]",
      "application/vnd.jupyter.widget-view+json": {
       "version_major": 2,
       "version_minor": 0,
       "model_id": "27773c0afb4142d28bebee08e91f8b8f"
      }
     },
     "metadata": {},
     "output_type": "display_data"
    },
    {
     "name": "stdout",
     "output_type": "stream",
     "text": [
      "--- EPOCH 51/200 ---\n"
     ]
    },
    {
     "data": {
      "text/plain": "train_batch:   0%|          | 0/186 [00:00<?, ?it/s]",
      "application/vnd.jupyter.widget-view+json": {
       "version_major": 2,
       "version_minor": 0,
       "model_id": "81c3146b9da74dd3b379b79d4e8270f7"
      }
     },
     "metadata": {},
     "output_type": "display_data"
    },
    {
     "data": {
      "text/plain": "test_batch:   0%|          | 0/21 [00:00<?, ?it/s]",
      "application/vnd.jupyter.widget-view+json": {
       "version_major": 2,
       "version_minor": 0,
       "model_id": "4deea029194448c88f72b17da1aecc17"
      }
     },
     "metadata": {},
     "output_type": "display_data"
    },
    {
     "data": {
      "text/plain": "train_batch:   0%|          | 0/186 [00:00<?, ?it/s]",
      "application/vnd.jupyter.widget-view+json": {
       "version_major": 2,
       "version_minor": 0,
       "model_id": "ae31d869e0364faa9ea91d769ac9b4b1"
      }
     },
     "metadata": {},
     "output_type": "display_data"
    },
    {
     "data": {
      "text/plain": "test_batch:   0%|          | 0/21 [00:00<?, ?it/s]",
      "application/vnd.jupyter.widget-view+json": {
       "version_major": 2,
       "version_minor": 0,
       "model_id": "bb4b5ca538634348aee5362e24a5758e"
      }
     },
     "metadata": {},
     "output_type": "display_data"
    },
    {
     "data": {
      "text/plain": "train_batch:   0%|          | 0/186 [00:00<?, ?it/s]",
      "application/vnd.jupyter.widget-view+json": {
       "version_major": 2,
       "version_minor": 0,
       "model_id": "2c2c50ac55b24a00aca681a34213a9b0"
      }
     },
     "metadata": {},
     "output_type": "display_data"
    },
    {
     "data": {
      "text/plain": "test_batch:   0%|          | 0/21 [00:00<?, ?it/s]",
      "application/vnd.jupyter.widget-view+json": {
       "version_major": 2,
       "version_minor": 0,
       "model_id": "8bc001c04a4544178f426df0b17632b6"
      }
     },
     "metadata": {},
     "output_type": "display_data"
    },
    {
     "data": {
      "text/plain": "train_batch:   0%|          | 0/186 [00:00<?, ?it/s]",
      "application/vnd.jupyter.widget-view+json": {
       "version_major": 2,
       "version_minor": 0,
       "model_id": "55be0ba3d5ff47788c70cf72d88b62d6"
      }
     },
     "metadata": {},
     "output_type": "display_data"
    },
    {
     "data": {
      "text/plain": "test_batch:   0%|          | 0/21 [00:00<?, ?it/s]",
      "application/vnd.jupyter.widget-view+json": {
       "version_major": 2,
       "version_minor": 0,
       "model_id": "6a8b5d23a3b14d07940b412c33d2bfb0"
      }
     },
     "metadata": {},
     "output_type": "display_data"
    },
    {
     "name": "stdout",
     "output_type": "stream",
     "text": [
      "\n",
      "*** Saved checkpoint checkpoints/vae.pt\n"
     ]
    },
    {
     "data": {
      "text/plain": "train_batch:   0%|          | 0/186 [00:00<?, ?it/s]",
      "application/vnd.jupyter.widget-view+json": {
       "version_major": 2,
       "version_minor": 0,
       "model_id": "6b17d009f3db4fa6a313180e064f6425"
      }
     },
     "metadata": {},
     "output_type": "display_data"
    },
    {
     "data": {
      "text/plain": "test_batch:   0%|          | 0/21 [00:00<?, ?it/s]",
      "application/vnd.jupyter.widget-view+json": {
       "version_major": 2,
       "version_minor": 0,
       "model_id": "c5d205dc19d74121b9339c2ea84b5e19"
      }
     },
     "metadata": {},
     "output_type": "display_data"
    },
    {
     "data": {
      "text/plain": "train_batch:   0%|          | 0/186 [00:00<?, ?it/s]",
      "application/vnd.jupyter.widget-view+json": {
       "version_major": 2,
       "version_minor": 0,
       "model_id": "20734a81cca44630a2f55bb9d4432a22"
      }
     },
     "metadata": {},
     "output_type": "display_data"
    },
    {
     "data": {
      "text/plain": "test_batch:   0%|          | 0/21 [00:00<?, ?it/s]",
      "application/vnd.jupyter.widget-view+json": {
       "version_major": 2,
       "version_minor": 0,
       "model_id": "43a77b142fd84fcd98f394356435139b"
      }
     },
     "metadata": {},
     "output_type": "display_data"
    },
    {
     "data": {
      "text/plain": "train_batch:   0%|          | 0/186 [00:00<?, ?it/s]",
      "application/vnd.jupyter.widget-view+json": {
       "version_major": 2,
       "version_minor": 0,
       "model_id": "04257cfb5ab04a7dafbb9045447730e1"
      }
     },
     "metadata": {},
     "output_type": "display_data"
    },
    {
     "data": {
      "text/plain": "test_batch:   0%|          | 0/21 [00:00<?, ?it/s]",
      "application/vnd.jupyter.widget-view+json": {
       "version_major": 2,
       "version_minor": 0,
       "model_id": "69f48df627ba44ffa1f9b96f242cb335"
      }
     },
     "metadata": {},
     "output_type": "display_data"
    },
    {
     "data": {
      "text/plain": "train_batch:   0%|          | 0/186 [00:00<?, ?it/s]",
      "application/vnd.jupyter.widget-view+json": {
       "version_major": 2,
       "version_minor": 0,
       "model_id": "a172b303fdf143e89f13eca0f3a07fe3"
      }
     },
     "metadata": {},
     "output_type": "display_data"
    },
    {
     "data": {
      "text/plain": "test_batch:   0%|          | 0/21 [00:00<?, ?it/s]",
      "application/vnd.jupyter.widget-view+json": {
       "version_major": 2,
       "version_minor": 0,
       "model_id": "191ad3a6d8b141cda01e0e4a59b1d9ef"
      }
     },
     "metadata": {},
     "output_type": "display_data"
    },
    {
     "name": "stdout",
     "output_type": "stream",
     "text": [
      "\n",
      "*** Saved checkpoint checkpoints/vae.pt\n"
     ]
    },
    {
     "data": {
      "text/plain": "train_batch:   0%|          | 0/186 [00:00<?, ?it/s]",
      "application/vnd.jupyter.widget-view+json": {
       "version_major": 2,
       "version_minor": 0,
       "model_id": "6246cf8166114efc93f38b2a328da655"
      }
     },
     "metadata": {},
     "output_type": "display_data"
    },
    {
     "data": {
      "text/plain": "test_batch:   0%|          | 0/21 [00:00<?, ?it/s]",
      "application/vnd.jupyter.widget-view+json": {
       "version_major": 2,
       "version_minor": 0,
       "model_id": "a56a2bcea0ba443083525e9e505bbf3f"
      }
     },
     "metadata": {},
     "output_type": "display_data"
    },
    {
     "data": {
      "text/plain": "train_batch:   0%|          | 0/186 [00:00<?, ?it/s]",
      "application/vnd.jupyter.widget-view+json": {
       "version_major": 2,
       "version_minor": 0,
       "model_id": "69eac377ef2043f4917f49f6a4b8ad7e"
      }
     },
     "metadata": {},
     "output_type": "display_data"
    },
    {
     "data": {
      "text/plain": "test_batch:   0%|          | 0/21 [00:00<?, ?it/s]",
      "application/vnd.jupyter.widget-view+json": {
       "version_major": 2,
       "version_minor": 0,
       "model_id": "b7d8ccbabb15446b91b252ffc3e1a0d9"
      }
     },
     "metadata": {},
     "output_type": "display_data"
    },
    {
     "name": "stdout",
     "output_type": "stream",
     "text": [
      "--- EPOCH 61/200 ---\n"
     ]
    },
    {
     "data": {
      "text/plain": "train_batch:   0%|          | 0/186 [00:00<?, ?it/s]",
      "application/vnd.jupyter.widget-view+json": {
       "version_major": 2,
       "version_minor": 0,
       "model_id": "e0a55842d9614990ada961f9a0fbbb2c"
      }
     },
     "metadata": {},
     "output_type": "display_data"
    },
    {
     "data": {
      "text/plain": "test_batch:   0%|          | 0/21 [00:00<?, ?it/s]",
      "application/vnd.jupyter.widget-view+json": {
       "version_major": 2,
       "version_minor": 0,
       "model_id": "db85321172484bb4a82775b631f7fa7c"
      }
     },
     "metadata": {},
     "output_type": "display_data"
    },
    {
     "name": "stdout",
     "output_type": "stream",
     "text": [
      "\n",
      "*** Saved checkpoint checkpoints/vae.pt\n"
     ]
    },
    {
     "data": {
      "text/plain": "train_batch:   0%|          | 0/186 [00:00<?, ?it/s]",
      "application/vnd.jupyter.widget-view+json": {
       "version_major": 2,
       "version_minor": 0,
       "model_id": "2a8f64b1c7ad4e59bbde8b5d26f0eda4"
      }
     },
     "metadata": {},
     "output_type": "display_data"
    },
    {
     "data": {
      "text/plain": "test_batch:   0%|          | 0/21 [00:00<?, ?it/s]",
      "application/vnd.jupyter.widget-view+json": {
       "version_major": 2,
       "version_minor": 0,
       "model_id": "7ddbf76377cd4a9aa97fbaaab846ec63"
      }
     },
     "metadata": {},
     "output_type": "display_data"
    },
    {
     "data": {
      "text/plain": "train_batch:   0%|          | 0/186 [00:00<?, ?it/s]",
      "application/vnd.jupyter.widget-view+json": {
       "version_major": 2,
       "version_minor": 0,
       "model_id": "b959910b15a44e2d9078fd4925505e58"
      }
     },
     "metadata": {},
     "output_type": "display_data"
    },
    {
     "data": {
      "text/plain": "test_batch:   0%|          | 0/21 [00:00<?, ?it/s]",
      "application/vnd.jupyter.widget-view+json": {
       "version_major": 2,
       "version_minor": 0,
       "model_id": "378b388dc47a41a3bfe1632207dbb21f"
      }
     },
     "metadata": {},
     "output_type": "display_data"
    },
    {
     "data": {
      "text/plain": "train_batch:   0%|          | 0/186 [00:00<?, ?it/s]",
      "application/vnd.jupyter.widget-view+json": {
       "version_major": 2,
       "version_minor": 0,
       "model_id": "6c02d63a751d4158801316025cf20158"
      }
     },
     "metadata": {},
     "output_type": "display_data"
    },
    {
     "data": {
      "text/plain": "test_batch:   0%|          | 0/21 [00:00<?, ?it/s]",
      "application/vnd.jupyter.widget-view+json": {
       "version_major": 2,
       "version_minor": 0,
       "model_id": "0d71989451f3411786827d95b7543792"
      }
     },
     "metadata": {},
     "output_type": "display_data"
    },
    {
     "data": {
      "text/plain": "train_batch:   0%|          | 0/186 [00:00<?, ?it/s]",
      "application/vnd.jupyter.widget-view+json": {
       "version_major": 2,
       "version_minor": 0,
       "model_id": "b96c9b79893c4b3b86ef4827c817d1b2"
      }
     },
     "metadata": {},
     "output_type": "display_data"
    },
    {
     "data": {
      "text/plain": "test_batch:   0%|          | 0/21 [00:00<?, ?it/s]",
      "application/vnd.jupyter.widget-view+json": {
       "version_major": 2,
       "version_minor": 0,
       "model_id": "56b947e8b31d485ba7718979192a3e06"
      }
     },
     "metadata": {},
     "output_type": "display_data"
    },
    {
     "data": {
      "text/plain": "train_batch:   0%|          | 0/186 [00:00<?, ?it/s]",
      "application/vnd.jupyter.widget-view+json": {
       "version_major": 2,
       "version_minor": 0,
       "model_id": "387bd7fefd7f40c99b95af0803921a86"
      }
     },
     "metadata": {},
     "output_type": "display_data"
    },
    {
     "data": {
      "text/plain": "test_batch:   0%|          | 0/21 [00:00<?, ?it/s]",
      "application/vnd.jupyter.widget-view+json": {
       "version_major": 2,
       "version_minor": 0,
       "model_id": "6fe66a3e8e2d47f8bf76ae734c69e22d"
      }
     },
     "metadata": {},
     "output_type": "display_data"
    },
    {
     "data": {
      "text/plain": "train_batch:   0%|          | 0/186 [00:00<?, ?it/s]",
      "application/vnd.jupyter.widget-view+json": {
       "version_major": 2,
       "version_minor": 0,
       "model_id": "8585b5fe353e49dc903e262152a69148"
      }
     },
     "metadata": {},
     "output_type": "display_data"
    }
   ],
   "source": [
    "def post_epoch_fn(epoch, train_result, test_result, verbose):\n",
    "    # Plot some samples if this is a verbose epoch\n",
    "    if verbose:\n",
    "        samples = vae.sample(n=1)\n",
    "\n",
    "\n",
    "if os.path.isfile(f'{checkpoint_file_final}.pt'):\n",
    "    print(f'*** Loading final checkpoint file {checkpoint_file_final} instead of training')\n",
    "    checkpoint_file = checkpoint_file_final\n",
    "else:\n",
    "    res = trainer.fit(dl_train, dl_test,\n",
    "                      num_epochs=200, early_stopping=20, print_every=10,\n",
    "                      checkpoints=checkpoint_file,\n",
    "                      post_epoch_fn=post_epoch_fn)\n",
    "\n",
    "# Plot images from best model\n",
    "saved_state = torch.load(f'{checkpoint_file}.pt', map_location=device)\n",
    "vae_dp.load_state_dict(saved_state['model_state'])\n"
   ],
   "metadata": {
    "collapsed": false,
    "pycharm": {
     "name": "#%%\n",
     "is_executing": true
    }
   }
  },
  {
   "cell_type": "code",
   "execution_count": null,
   "outputs": [],
   "source": [
    "from ChoralePhraseTensor import GeneratedPhraseBatchTensor\n",
    "\n",
    "for _ in range(10):\n",
    "    GeneratedPhraseBatchTensor(vae_dp.module.sample(1)[0]).display_phrase_information_in_a_given_key()"
   ],
   "metadata": {
    "collapsed": false,
    "pycharm": {
     "name": "#%%\n",
     "is_executing": true
    }
   }
  }
 ],
 "metadata": {
  "kernelspec": {
   "display_name": "Python 3",
   "language": "python",
   "name": "python3"
  },
  "language_info": {
   "codemirror_mode": {
    "name": "ipython",
    "version": 2
   },
   "file_extension": ".py",
   "mimetype": "text/x-python",
   "name": "python",
   "nbconvert_exporter": "python",
   "pygments_lexer": "ipython2",
   "version": "2.7.6"
  }
 },
 "nbformat": 4,
 "nbformat_minor": 0
}